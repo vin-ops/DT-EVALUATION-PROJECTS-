{
 "cells": [
  {
   "cell_type": "markdown",
   "id": "ab1781c8",
   "metadata": {},
   "source": [
    "# IMPORTING PACKAGES "
   ]
  },
  {
   "cell_type": "code",
   "execution_count": 1,
   "id": "cdaa8c9e",
   "metadata": {},
   "outputs": [],
   "source": [
    "\n",
    "import pandas as pd\n",
    "import numpy as np\n",
    "import seaborn as sns\n",
    "import matplotlib.pyplot as plt \n",
    "import warnings\n",
    "warnings.filterwarnings('ignore')\n"
   ]
  },
  {
   "cell_type": "code",
   "execution_count": 2,
   "id": "c9f64bb6",
   "metadata": {},
   "outputs": [],
   "source": [
    "# THIS DATA HAS TWO PREDICTIONS TO BE MADE ONE IS REGRESSION AND OTHER ONE IS CLASSIFICATION \n",
    "\n",
    "df=pd.read_csv('https://raw.githubusercontent.com/wri/global-power-plant-database/master/source_databases_csv/database_IND.csv')"
   ]
  },
  {
   "cell_type": "code",
   "execution_count": 3,
   "id": "e0584cd6",
   "metadata": {},
   "outputs": [
    {
     "data": {
      "text/html": [
       "<div>\n",
       "<style scoped>\n",
       "    .dataframe tbody tr th:only-of-type {\n",
       "        vertical-align: middle;\n",
       "    }\n",
       "\n",
       "    .dataframe tbody tr th {\n",
       "        vertical-align: top;\n",
       "    }\n",
       "\n",
       "    .dataframe thead th {\n",
       "        text-align: right;\n",
       "    }\n",
       "</style>\n",
       "<table border=\"1\" class=\"dataframe\">\n",
       "  <thead>\n",
       "    <tr style=\"text-align: right;\">\n",
       "      <th></th>\n",
       "      <th>country</th>\n",
       "      <th>country_long</th>\n",
       "      <th>name</th>\n",
       "      <th>gppd_idnr</th>\n",
       "      <th>capacity_mw</th>\n",
       "      <th>latitude</th>\n",
       "      <th>longitude</th>\n",
       "      <th>primary_fuel</th>\n",
       "      <th>other_fuel1</th>\n",
       "      <th>other_fuel2</th>\n",
       "      <th>...</th>\n",
       "      <th>geolocation_source</th>\n",
       "      <th>wepp_id</th>\n",
       "      <th>year_of_capacity_data</th>\n",
       "      <th>generation_gwh_2013</th>\n",
       "      <th>generation_gwh_2014</th>\n",
       "      <th>generation_gwh_2015</th>\n",
       "      <th>generation_gwh_2016</th>\n",
       "      <th>generation_gwh_2017</th>\n",
       "      <th>generation_data_source</th>\n",
       "      <th>estimated_generation_gwh</th>\n",
       "    </tr>\n",
       "  </thead>\n",
       "  <tbody>\n",
       "    <tr>\n",
       "      <th>0</th>\n",
       "      <td>IND</td>\n",
       "      <td>India</td>\n",
       "      <td>ACME Solar Tower</td>\n",
       "      <td>WRI1020239</td>\n",
       "      <td>2.5</td>\n",
       "      <td>28.1839</td>\n",
       "      <td>73.2407</td>\n",
       "      <td>Solar</td>\n",
       "      <td>NaN</td>\n",
       "      <td>NaN</td>\n",
       "      <td>...</td>\n",
       "      <td>National Renewable Energy Laboratory</td>\n",
       "      <td>NaN</td>\n",
       "      <td>NaN</td>\n",
       "      <td>NaN</td>\n",
       "      <td>NaN</td>\n",
       "      <td>NaN</td>\n",
       "      <td>NaN</td>\n",
       "      <td>NaN</td>\n",
       "      <td>NaN</td>\n",
       "      <td>NaN</td>\n",
       "    </tr>\n",
       "    <tr>\n",
       "      <th>1</th>\n",
       "      <td>IND</td>\n",
       "      <td>India</td>\n",
       "      <td>ADITYA CEMENT WORKS</td>\n",
       "      <td>WRI1019881</td>\n",
       "      <td>98.0</td>\n",
       "      <td>24.7663</td>\n",
       "      <td>74.6090</td>\n",
       "      <td>Coal</td>\n",
       "      <td>NaN</td>\n",
       "      <td>NaN</td>\n",
       "      <td>...</td>\n",
       "      <td>WRI</td>\n",
       "      <td>NaN</td>\n",
       "      <td>NaN</td>\n",
       "      <td>NaN</td>\n",
       "      <td>NaN</td>\n",
       "      <td>NaN</td>\n",
       "      <td>NaN</td>\n",
       "      <td>NaN</td>\n",
       "      <td>NaN</td>\n",
       "      <td>NaN</td>\n",
       "    </tr>\n",
       "    <tr>\n",
       "      <th>2</th>\n",
       "      <td>IND</td>\n",
       "      <td>India</td>\n",
       "      <td>AES Saurashtra Windfarms</td>\n",
       "      <td>WRI1026669</td>\n",
       "      <td>39.2</td>\n",
       "      <td>21.9038</td>\n",
       "      <td>69.3732</td>\n",
       "      <td>Wind</td>\n",
       "      <td>NaN</td>\n",
       "      <td>NaN</td>\n",
       "      <td>...</td>\n",
       "      <td>WRI</td>\n",
       "      <td>NaN</td>\n",
       "      <td>NaN</td>\n",
       "      <td>NaN</td>\n",
       "      <td>NaN</td>\n",
       "      <td>NaN</td>\n",
       "      <td>NaN</td>\n",
       "      <td>NaN</td>\n",
       "      <td>NaN</td>\n",
       "      <td>NaN</td>\n",
       "    </tr>\n",
       "    <tr>\n",
       "      <th>3</th>\n",
       "      <td>IND</td>\n",
       "      <td>India</td>\n",
       "      <td>AGARTALA GT</td>\n",
       "      <td>IND0000001</td>\n",
       "      <td>135.0</td>\n",
       "      <td>23.8712</td>\n",
       "      <td>91.3602</td>\n",
       "      <td>Gas</td>\n",
       "      <td>NaN</td>\n",
       "      <td>NaN</td>\n",
       "      <td>...</td>\n",
       "      <td>WRI</td>\n",
       "      <td>NaN</td>\n",
       "      <td>2018.0</td>\n",
       "      <td>631.777928</td>\n",
       "      <td>617.789264</td>\n",
       "      <td>843.747</td>\n",
       "      <td>886.004428</td>\n",
       "      <td>663.774500</td>\n",
       "      <td>Central Electricity Authority</td>\n",
       "      <td>NaN</td>\n",
       "    </tr>\n",
       "    <tr>\n",
       "      <th>4</th>\n",
       "      <td>IND</td>\n",
       "      <td>India</td>\n",
       "      <td>AKALTARA TPP</td>\n",
       "      <td>IND0000002</td>\n",
       "      <td>1800.0</td>\n",
       "      <td>21.9603</td>\n",
       "      <td>82.4091</td>\n",
       "      <td>Coal</td>\n",
       "      <td>Oil</td>\n",
       "      <td>NaN</td>\n",
       "      <td>...</td>\n",
       "      <td>WRI</td>\n",
       "      <td>NaN</td>\n",
       "      <td>2018.0</td>\n",
       "      <td>1668.290000</td>\n",
       "      <td>3035.550000</td>\n",
       "      <td>5916.370</td>\n",
       "      <td>6243.000000</td>\n",
       "      <td>5385.579736</td>\n",
       "      <td>Central Electricity Authority</td>\n",
       "      <td>NaN</td>\n",
       "    </tr>\n",
       "  </tbody>\n",
       "</table>\n",
       "<p>5 rows × 25 columns</p>\n",
       "</div>"
      ],
      "text/plain": [
       "  country country_long                      name   gppd_idnr  capacity_mw  \\\n",
       "0     IND        India          ACME Solar Tower  WRI1020239          2.5   \n",
       "1     IND        India       ADITYA CEMENT WORKS  WRI1019881         98.0   \n",
       "2     IND        India  AES Saurashtra Windfarms  WRI1026669         39.2   \n",
       "3     IND        India               AGARTALA GT  IND0000001        135.0   \n",
       "4     IND        India              AKALTARA TPP  IND0000002       1800.0   \n",
       "\n",
       "   latitude  longitude primary_fuel other_fuel1 other_fuel2  ...  \\\n",
       "0   28.1839    73.2407        Solar         NaN         NaN  ...   \n",
       "1   24.7663    74.6090         Coal         NaN         NaN  ...   \n",
       "2   21.9038    69.3732         Wind         NaN         NaN  ...   \n",
       "3   23.8712    91.3602          Gas         NaN         NaN  ...   \n",
       "4   21.9603    82.4091         Coal         Oil         NaN  ...   \n",
       "\n",
       "                     geolocation_source  wepp_id year_of_capacity_data  \\\n",
       "0  National Renewable Energy Laboratory      NaN                   NaN   \n",
       "1                                   WRI      NaN                   NaN   \n",
       "2                                   WRI      NaN                   NaN   \n",
       "3                                   WRI      NaN                2018.0   \n",
       "4                                   WRI      NaN                2018.0   \n",
       "\n",
       "  generation_gwh_2013 generation_gwh_2014 generation_gwh_2015  \\\n",
       "0                 NaN                 NaN                 NaN   \n",
       "1                 NaN                 NaN                 NaN   \n",
       "2                 NaN                 NaN                 NaN   \n",
       "3          631.777928          617.789264             843.747   \n",
       "4         1668.290000         3035.550000            5916.370   \n",
       "\n",
       "   generation_gwh_2016  generation_gwh_2017         generation_data_source  \\\n",
       "0                  NaN                  NaN                            NaN   \n",
       "1                  NaN                  NaN                            NaN   \n",
       "2                  NaN                  NaN                            NaN   \n",
       "3           886.004428           663.774500  Central Electricity Authority   \n",
       "4          6243.000000          5385.579736  Central Electricity Authority   \n",
       "\n",
       "   estimated_generation_gwh  \n",
       "0                       NaN  \n",
       "1                       NaN  \n",
       "2                       NaN  \n",
       "3                       NaN  \n",
       "4                       NaN  \n",
       "\n",
       "[5 rows x 25 columns]"
      ]
     },
     "execution_count": 3,
     "metadata": {},
     "output_type": "execute_result"
    }
   ],
   "source": [
    "df.head()"
   ]
  },
  {
   "cell_type": "code",
   "execution_count": 4,
   "id": "f2b925a7",
   "metadata": {},
   "outputs": [
    {
     "data": {
      "text/html": [
       "<div>\n",
       "<style scoped>\n",
       "    .dataframe tbody tr th:only-of-type {\n",
       "        vertical-align: middle;\n",
       "    }\n",
       "\n",
       "    .dataframe tbody tr th {\n",
       "        vertical-align: top;\n",
       "    }\n",
       "\n",
       "    .dataframe thead th {\n",
       "        text-align: right;\n",
       "    }\n",
       "</style>\n",
       "<table border=\"1\" class=\"dataframe\">\n",
       "  <thead>\n",
       "    <tr style=\"text-align: right;\">\n",
       "      <th></th>\n",
       "      <th>country</th>\n",
       "      <th>country_long</th>\n",
       "      <th>name</th>\n",
       "      <th>gppd_idnr</th>\n",
       "      <th>capacity_mw</th>\n",
       "      <th>latitude</th>\n",
       "      <th>longitude</th>\n",
       "      <th>primary_fuel</th>\n",
       "      <th>other_fuel1</th>\n",
       "      <th>other_fuel2</th>\n",
       "      <th>...</th>\n",
       "      <th>geolocation_source</th>\n",
       "      <th>wepp_id</th>\n",
       "      <th>year_of_capacity_data</th>\n",
       "      <th>generation_gwh_2013</th>\n",
       "      <th>generation_gwh_2014</th>\n",
       "      <th>generation_gwh_2015</th>\n",
       "      <th>generation_gwh_2016</th>\n",
       "      <th>generation_gwh_2017</th>\n",
       "      <th>generation_data_source</th>\n",
       "      <th>estimated_generation_gwh</th>\n",
       "    </tr>\n",
       "  </thead>\n",
       "  <tbody>\n",
       "    <tr>\n",
       "      <th>903</th>\n",
       "      <td>IND</td>\n",
       "      <td>India</td>\n",
       "      <td>YERMARUS TPP</td>\n",
       "      <td>IND0000513</td>\n",
       "      <td>1600.0</td>\n",
       "      <td>16.2949</td>\n",
       "      <td>77.3568</td>\n",
       "      <td>Coal</td>\n",
       "      <td>Oil</td>\n",
       "      <td>NaN</td>\n",
       "      <td>...</td>\n",
       "      <td>WRI</td>\n",
       "      <td>NaN</td>\n",
       "      <td>2018.0</td>\n",
       "      <td>NaN</td>\n",
       "      <td>NaN</td>\n",
       "      <td>0.994875</td>\n",
       "      <td>233.59665</td>\n",
       "      <td>865.4</td>\n",
       "      <td>Central Electricity Authority</td>\n",
       "      <td>NaN</td>\n",
       "    </tr>\n",
       "    <tr>\n",
       "      <th>904</th>\n",
       "      <td>IND</td>\n",
       "      <td>India</td>\n",
       "      <td>Yelesandra Solar Power Plant</td>\n",
       "      <td>WRI1026222</td>\n",
       "      <td>3.0</td>\n",
       "      <td>12.8932</td>\n",
       "      <td>78.1654</td>\n",
       "      <td>Solar</td>\n",
       "      <td>NaN</td>\n",
       "      <td>NaN</td>\n",
       "      <td>...</td>\n",
       "      <td>Industry About</td>\n",
       "      <td>NaN</td>\n",
       "      <td>NaN</td>\n",
       "      <td>NaN</td>\n",
       "      <td>NaN</td>\n",
       "      <td>NaN</td>\n",
       "      <td>NaN</td>\n",
       "      <td>NaN</td>\n",
       "      <td>NaN</td>\n",
       "      <td>NaN</td>\n",
       "    </tr>\n",
       "    <tr>\n",
       "      <th>905</th>\n",
       "      <td>IND</td>\n",
       "      <td>India</td>\n",
       "      <td>Yelisirur wind power project</td>\n",
       "      <td>WRI1026776</td>\n",
       "      <td>25.5</td>\n",
       "      <td>15.2758</td>\n",
       "      <td>75.5811</td>\n",
       "      <td>Wind</td>\n",
       "      <td>NaN</td>\n",
       "      <td>NaN</td>\n",
       "      <td>...</td>\n",
       "      <td>WRI</td>\n",
       "      <td>NaN</td>\n",
       "      <td>NaN</td>\n",
       "      <td>NaN</td>\n",
       "      <td>NaN</td>\n",
       "      <td>NaN</td>\n",
       "      <td>NaN</td>\n",
       "      <td>NaN</td>\n",
       "      <td>NaN</td>\n",
       "      <td>NaN</td>\n",
       "    </tr>\n",
       "    <tr>\n",
       "      <th>906</th>\n",
       "      <td>IND</td>\n",
       "      <td>India</td>\n",
       "      <td>ZAWAR MINES</td>\n",
       "      <td>WRI1019901</td>\n",
       "      <td>80.0</td>\n",
       "      <td>24.3500</td>\n",
       "      <td>73.7477</td>\n",
       "      <td>Coal</td>\n",
       "      <td>NaN</td>\n",
       "      <td>NaN</td>\n",
       "      <td>...</td>\n",
       "      <td>WRI</td>\n",
       "      <td>NaN</td>\n",
       "      <td>NaN</td>\n",
       "      <td>NaN</td>\n",
       "      <td>NaN</td>\n",
       "      <td>NaN</td>\n",
       "      <td>NaN</td>\n",
       "      <td>NaN</td>\n",
       "      <td>NaN</td>\n",
       "      <td>NaN</td>\n",
       "    </tr>\n",
       "    <tr>\n",
       "      <th>907</th>\n",
       "      <td>IND</td>\n",
       "      <td>India</td>\n",
       "      <td>iEnergy Theni Wind Farm</td>\n",
       "      <td>WRI1026761</td>\n",
       "      <td>16.5</td>\n",
       "      <td>9.9344</td>\n",
       "      <td>77.4768</td>\n",
       "      <td>Wind</td>\n",
       "      <td>NaN</td>\n",
       "      <td>NaN</td>\n",
       "      <td>...</td>\n",
       "      <td>WRI</td>\n",
       "      <td>NaN</td>\n",
       "      <td>NaN</td>\n",
       "      <td>NaN</td>\n",
       "      <td>NaN</td>\n",
       "      <td>NaN</td>\n",
       "      <td>NaN</td>\n",
       "      <td>NaN</td>\n",
       "      <td>NaN</td>\n",
       "      <td>NaN</td>\n",
       "    </tr>\n",
       "  </tbody>\n",
       "</table>\n",
       "<p>5 rows × 25 columns</p>\n",
       "</div>"
      ],
      "text/plain": [
       "    country country_long                          name   gppd_idnr  \\\n",
       "903     IND        India                  YERMARUS TPP  IND0000513   \n",
       "904     IND        India  Yelesandra Solar Power Plant  WRI1026222   \n",
       "905     IND        India  Yelisirur wind power project  WRI1026776   \n",
       "906     IND        India                   ZAWAR MINES  WRI1019901   \n",
       "907     IND        India       iEnergy Theni Wind Farm  WRI1026761   \n",
       "\n",
       "     capacity_mw  latitude  longitude primary_fuel other_fuel1 other_fuel2  \\\n",
       "903       1600.0   16.2949    77.3568         Coal         Oil         NaN   \n",
       "904          3.0   12.8932    78.1654        Solar         NaN         NaN   \n",
       "905         25.5   15.2758    75.5811         Wind         NaN         NaN   \n",
       "906         80.0   24.3500    73.7477         Coal         NaN         NaN   \n",
       "907         16.5    9.9344    77.4768         Wind         NaN         NaN   \n",
       "\n",
       "     ...  geolocation_source  wepp_id year_of_capacity_data  \\\n",
       "903  ...                 WRI      NaN                2018.0   \n",
       "904  ...      Industry About      NaN                   NaN   \n",
       "905  ...                 WRI      NaN                   NaN   \n",
       "906  ...                 WRI      NaN                   NaN   \n",
       "907  ...                 WRI      NaN                   NaN   \n",
       "\n",
       "    generation_gwh_2013 generation_gwh_2014 generation_gwh_2015  \\\n",
       "903                 NaN                 NaN            0.994875   \n",
       "904                 NaN                 NaN                 NaN   \n",
       "905                 NaN                 NaN                 NaN   \n",
       "906                 NaN                 NaN                 NaN   \n",
       "907                 NaN                 NaN                 NaN   \n",
       "\n",
       "     generation_gwh_2016  generation_gwh_2017         generation_data_source  \\\n",
       "903            233.59665                865.4  Central Electricity Authority   \n",
       "904                  NaN                  NaN                            NaN   \n",
       "905                  NaN                  NaN                            NaN   \n",
       "906                  NaN                  NaN                            NaN   \n",
       "907                  NaN                  NaN                            NaN   \n",
       "\n",
       "     estimated_generation_gwh  \n",
       "903                       NaN  \n",
       "904                       NaN  \n",
       "905                       NaN  \n",
       "906                       NaN  \n",
       "907                       NaN  \n",
       "\n",
       "[5 rows x 25 columns]"
      ]
     },
     "execution_count": 4,
     "metadata": {},
     "output_type": "execute_result"
    }
   ],
   "source": [
    "df.tail() # CHEKING THE LAS TFIVE ROWS "
   ]
  },
  {
   "cell_type": "code",
   "execution_count": 5,
   "id": "033ebbfa",
   "metadata": {},
   "outputs": [
    {
     "data": {
      "text/plain": [
       "(908, 25)"
      ]
     },
     "execution_count": 5,
     "metadata": {},
     "output_type": "execute_result"
    }
   ],
   "source": [
    "df.shape # CHECKING THE SHAPE "
   ]
  },
  {
   "cell_type": "code",
   "execution_count": 6,
   "id": "4a214c5a",
   "metadata": {},
   "outputs": [
    {
     "data": {
      "text/plain": [
       "Coal       259\n",
       "Hydro      250\n",
       "Solar      127\n",
       "Wind       123\n",
       "Gas         69\n",
       "Biomass     50\n",
       "Oil         21\n",
       "Nuclear      9\n",
       "Name: primary_fuel, dtype: int64"
      ]
     },
     "execution_count": 6,
     "metadata": {},
     "output_type": "execute_result"
    }
   ],
   "source": [
    "df['primary_fuel'].value_counts()"
   ]
  },
  {
   "cell_type": "code",
   "execution_count": 7,
   "id": "62a46595",
   "metadata": {},
   "outputs": [
    {
     "data": {
      "text/plain": [
       "<AxesSubplot:xlabel='primary_fuel', ylabel='capacity_mw'>"
      ]
     },
     "execution_count": 7,
     "metadata": {},
     "output_type": "execute_result"
    },
    {
     "data": {
      "image/png": "[encoded data removed]",
      "text/plain": [
       "<Figure size 1152x648 with 1 Axes>"
      ]
     },
     "metadata": {
      "needs_background": "light"
     },
     "output_type": "display_data"
    }
   ],
   "source": [
    "# MAKING THE BAR PLOT \n",
    "plt.figure(figsize=(16,9))\n",
    "sns.barplot(x='primary_fuel',y='capacity_mw',data=df,hue='primary_fuel')"
   ]
  },
  {
   "cell_type": "code",
   "execution_count": 8,
   "id": "52207976",
   "metadata": {},
   "outputs": [
    {
     "name": "stdout",
     "output_type": "stream",
     "text": [
      "<class 'pandas.core.frame.DataFrame'>\n",
      "RangeIndex: 908 entries, 0 to 907\n",
      "Data columns (total 25 columns):\n",
      " #   Column                    Non-Null Count  Dtype  \n",
      "---  ------                    --------------  -----  \n",
      " 0   country                   908 non-null    object \n",
      " 1   country_long              908 non-null    object \n",
      " 2   name                      908 non-null    object \n",
      " 3   gppd_idnr                 908 non-null    object \n",
      " 4   capacity_mw               908 non-null    float64\n",
      " 5   latitude                  862 non-null    float64\n",
      " 6   longitude                 862 non-null    float64\n",
      " 7   primary_fuel              908 non-null    object \n",
      " 8   other_fuel1               199 non-null    object \n",
      " 9   other_fuel2               1 non-null      object \n",
      " 10  other_fuel3               0 non-null      float64\n",
      " 11  commissioning_year        528 non-null    float64\n",
      " 12  owner                     342 non-null    object \n",
      " 13  source                    908 non-null    object \n",
      " 14  url                       908 non-null    object \n",
      " 15  geolocation_source        889 non-null    object \n",
      " 16  wepp_id                   0 non-null      float64\n",
      " 17  year_of_capacity_data     520 non-null    float64\n",
      " 18  generation_gwh_2013       384 non-null    float64\n",
      " 19  generation_gwh_2014       401 non-null    float64\n",
      " 20  generation_gwh_2015       425 non-null    float64\n",
      " 21  generation_gwh_2016       437 non-null    float64\n",
      " 22  generation_gwh_2017       443 non-null    float64\n",
      " 23  generation_data_source    450 non-null    object \n",
      " 24  estimated_generation_gwh  0 non-null      float64\n",
      "dtypes: float64(13), object(12)\n",
      "memory usage: 177.5+ KB\n"
     ]
    }
   ],
   "source": [
    "df.info()"
   ]
  },
  {
   "cell_type": "code",
   "execution_count": 9,
   "id": "d0a6df0b",
   "metadata": {},
   "outputs": [
    {
     "data": {
      "text/plain": [
       "country                       0\n",
       "country_long                  0\n",
       "name                          0\n",
       "gppd_idnr                     0\n",
       "capacity_mw                   0\n",
       "latitude                     46\n",
       "longitude                    46\n",
       "primary_fuel                  0\n",
       "other_fuel1                 709\n",
       "other_fuel2                 907\n",
       "other_fuel3                 908\n",
       "commissioning_year          380\n",
       "owner                       566\n",
       "source                        0\n",
       "url                           0\n",
       "geolocation_source           19\n",
       "wepp_id                     908\n",
       "year_of_capacity_data       388\n",
       "generation_gwh_2013         524\n",
       "generation_gwh_2014         507\n",
       "generation_gwh_2015         483\n",
       "generation_gwh_2016         471\n",
       "generation_gwh_2017         465\n",
       "generation_data_source      458\n",
       "estimated_generation_gwh    908\n",
       "dtype: int64"
      ]
     },
     "execution_count": 9,
     "metadata": {},
     "output_type": "execute_result"
    }
   ],
   "source": [
    "df.isna().sum()  # DATA HAS NULL VALUES "
   ]
  },
  {
   "cell_type": "code",
   "execution_count": 10,
   "id": "3e211ab0",
   "metadata": {},
   "outputs": [],
   "source": [
    "#droping these columns as these are full of NaN values\n",
    "\n",
    "df.drop(['estimated_generation_gwh','other_fuel3','other_fuel2','wepp_id'],axis=1,inplace=True)"
   ]
  },
  {
   "cell_type": "code",
   "execution_count": 11,
   "id": "9faac90b",
   "metadata": {},
   "outputs": [
    {
     "data": {
      "text/html": [
       "<div>\n",
       "<style scoped>\n",
       "    .dataframe tbody tr th:only-of-type {\n",
       "        vertical-align: middle;\n",
       "    }\n",
       "\n",
       "    .dataframe tbody tr th {\n",
       "        vertical-align: top;\n",
       "    }\n",
       "\n",
       "    .dataframe thead th {\n",
       "        text-align: right;\n",
       "    }\n",
       "</style>\n",
       "<table border=\"1\" class=\"dataframe\">\n",
       "  <thead>\n",
       "    <tr style=\"text-align: right;\">\n",
       "      <th></th>\n",
       "      <th>country</th>\n",
       "      <th>country_long</th>\n",
       "      <th>name</th>\n",
       "      <th>gppd_idnr</th>\n",
       "      <th>capacity_mw</th>\n",
       "      <th>latitude</th>\n",
       "      <th>longitude</th>\n",
       "      <th>primary_fuel</th>\n",
       "      <th>other_fuel1</th>\n",
       "      <th>commissioning_year</th>\n",
       "      <th>...</th>\n",
       "      <th>source</th>\n",
       "      <th>url</th>\n",
       "      <th>geolocation_source</th>\n",
       "      <th>year_of_capacity_data</th>\n",
       "      <th>generation_gwh_2013</th>\n",
       "      <th>generation_gwh_2014</th>\n",
       "      <th>generation_gwh_2015</th>\n",
       "      <th>generation_gwh_2016</th>\n",
       "      <th>generation_gwh_2017</th>\n",
       "      <th>generation_data_source</th>\n",
       "    </tr>\n",
       "  </thead>\n",
       "  <tbody>\n",
       "    <tr>\n",
       "      <th>0</th>\n",
       "      <td>IND</td>\n",
       "      <td>India</td>\n",
       "      <td>ACME Solar Tower</td>\n",
       "      <td>WRI1020239</td>\n",
       "      <td>2.5</td>\n",
       "      <td>28.1839</td>\n",
       "      <td>73.2407</td>\n",
       "      <td>Solar</td>\n",
       "      <td>NaN</td>\n",
       "      <td>2011.0</td>\n",
       "      <td>...</td>\n",
       "      <td>National Renewable Energy Laboratory</td>\n",
       "      <td>http://www.nrel.gov/csp/solarpaces/project_det...</td>\n",
       "      <td>National Renewable Energy Laboratory</td>\n",
       "      <td>NaN</td>\n",
       "      <td>NaN</td>\n",
       "      <td>NaN</td>\n",
       "      <td>NaN</td>\n",
       "      <td>NaN</td>\n",
       "      <td>NaN</td>\n",
       "      <td>NaN</td>\n",
       "    </tr>\n",
       "    <tr>\n",
       "      <th>1</th>\n",
       "      <td>IND</td>\n",
       "      <td>India</td>\n",
       "      <td>ADITYA CEMENT WORKS</td>\n",
       "      <td>WRI1019881</td>\n",
       "      <td>98.0</td>\n",
       "      <td>24.7663</td>\n",
       "      <td>74.6090</td>\n",
       "      <td>Coal</td>\n",
       "      <td>NaN</td>\n",
       "      <td>NaN</td>\n",
       "      <td>...</td>\n",
       "      <td>Ultratech Cement ltd</td>\n",
       "      <td>http://www.ultratechcement.com/</td>\n",
       "      <td>WRI</td>\n",
       "      <td>NaN</td>\n",
       "      <td>NaN</td>\n",
       "      <td>NaN</td>\n",
       "      <td>NaN</td>\n",
       "      <td>NaN</td>\n",
       "      <td>NaN</td>\n",
       "      <td>NaN</td>\n",
       "    </tr>\n",
       "    <tr>\n",
       "      <th>2</th>\n",
       "      <td>IND</td>\n",
       "      <td>India</td>\n",
       "      <td>AES Saurashtra Windfarms</td>\n",
       "      <td>WRI1026669</td>\n",
       "      <td>39.2</td>\n",
       "      <td>21.9038</td>\n",
       "      <td>69.3732</td>\n",
       "      <td>Wind</td>\n",
       "      <td>NaN</td>\n",
       "      <td>NaN</td>\n",
       "      <td>...</td>\n",
       "      <td>CDM</td>\n",
       "      <td>https://cdm.unfccc.int/Projects/DB/DNV-CUK1328...</td>\n",
       "      <td>WRI</td>\n",
       "      <td>NaN</td>\n",
       "      <td>NaN</td>\n",
       "      <td>NaN</td>\n",
       "      <td>NaN</td>\n",
       "      <td>NaN</td>\n",
       "      <td>NaN</td>\n",
       "      <td>NaN</td>\n",
       "    </tr>\n",
       "    <tr>\n",
       "      <th>3</th>\n",
       "      <td>IND</td>\n",
       "      <td>India</td>\n",
       "      <td>AGARTALA GT</td>\n",
       "      <td>IND0000001</td>\n",
       "      <td>135.0</td>\n",
       "      <td>23.8712</td>\n",
       "      <td>91.3602</td>\n",
       "      <td>Gas</td>\n",
       "      <td>NaN</td>\n",
       "      <td>2004.0</td>\n",
       "      <td>...</td>\n",
       "      <td>Central Electricity Authority</td>\n",
       "      <td>http://www.cea.nic.in/</td>\n",
       "      <td>WRI</td>\n",
       "      <td>2018.0</td>\n",
       "      <td>631.777928</td>\n",
       "      <td>617.789264</td>\n",
       "      <td>843.747</td>\n",
       "      <td>886.004428</td>\n",
       "      <td>663.774500</td>\n",
       "      <td>Central Electricity Authority</td>\n",
       "    </tr>\n",
       "    <tr>\n",
       "      <th>4</th>\n",
       "      <td>IND</td>\n",
       "      <td>India</td>\n",
       "      <td>AKALTARA TPP</td>\n",
       "      <td>IND0000002</td>\n",
       "      <td>1800.0</td>\n",
       "      <td>21.9603</td>\n",
       "      <td>82.4091</td>\n",
       "      <td>Coal</td>\n",
       "      <td>Oil</td>\n",
       "      <td>2015.0</td>\n",
       "      <td>...</td>\n",
       "      <td>Central Electricity Authority</td>\n",
       "      <td>http://www.cea.nic.in/</td>\n",
       "      <td>WRI</td>\n",
       "      <td>2018.0</td>\n",
       "      <td>1668.290000</td>\n",
       "      <td>3035.550000</td>\n",
       "      <td>5916.370</td>\n",
       "      <td>6243.000000</td>\n",
       "      <td>5385.579736</td>\n",
       "      <td>Central Electricity Authority</td>\n",
       "    </tr>\n",
       "  </tbody>\n",
       "</table>\n",
       "<p>5 rows × 21 columns</p>\n",
       "</div>"
      ],
      "text/plain": [
       "  country country_long                      name   gppd_idnr  capacity_mw  \\\n",
       "0     IND        India          ACME Solar Tower  WRI1020239          2.5   \n",
       "1     IND        India       ADITYA CEMENT WORKS  WRI1019881         98.0   \n",
       "2     IND        India  AES Saurashtra Windfarms  WRI1026669         39.2   \n",
       "3     IND        India               AGARTALA GT  IND0000001        135.0   \n",
       "4     IND        India              AKALTARA TPP  IND0000002       1800.0   \n",
       "\n",
       "   latitude  longitude primary_fuel other_fuel1  commissioning_year  ...  \\\n",
       "0   28.1839    73.2407        Solar         NaN              2011.0  ...   \n",
       "1   24.7663    74.6090         Coal         NaN                 NaN  ...   \n",
       "2   21.9038    69.3732         Wind         NaN                 NaN  ...   \n",
       "3   23.8712    91.3602          Gas         NaN              2004.0  ...   \n",
       "4   21.9603    82.4091         Coal         Oil              2015.0  ...   \n",
       "\n",
       "                                 source  \\\n",
       "0  National Renewable Energy Laboratory   \n",
       "1                  Ultratech Cement ltd   \n",
       "2                                   CDM   \n",
       "3         Central Electricity Authority   \n",
       "4         Central Electricity Authority   \n",
       "\n",
       "                                                 url  \\\n",
       "0  http://www.nrel.gov/csp/solarpaces/project_det...   \n",
       "1                    http://www.ultratechcement.com/   \n",
       "2  https://cdm.unfccc.int/Projects/DB/DNV-CUK1328...   \n",
       "3                             http://www.cea.nic.in/   \n",
       "4                             http://www.cea.nic.in/   \n",
       "\n",
       "                     geolocation_source year_of_capacity_data  \\\n",
       "0  National Renewable Energy Laboratory                   NaN   \n",
       "1                                   WRI                   NaN   \n",
       "2                                   WRI                   NaN   \n",
       "3                                   WRI                2018.0   \n",
       "4                                   WRI                2018.0   \n",
       "\n",
       "   generation_gwh_2013  generation_gwh_2014  generation_gwh_2015  \\\n",
       "0                  NaN                  NaN                  NaN   \n",
       "1                  NaN                  NaN                  NaN   \n",
       "2                  NaN                  NaN                  NaN   \n",
       "3           631.777928           617.789264              843.747   \n",
       "4          1668.290000          3035.550000             5916.370   \n",
       "\n",
       "   generation_gwh_2016  generation_gwh_2017         generation_data_source  \n",
       "0                  NaN                  NaN                            NaN  \n",
       "1                  NaN                  NaN                            NaN  \n",
       "2                  NaN                  NaN                            NaN  \n",
       "3           886.004428           663.774500  Central Electricity Authority  \n",
       "4          6243.000000          5385.579736  Central Electricity Authority  \n",
       "\n",
       "[5 rows x 21 columns]"
      ]
     },
     "execution_count": 11,
     "metadata": {},
     "output_type": "execute_result"
    }
   ],
   "source": [
    "df.head() # checking the result "
   ]
  },
  {
   "cell_type": "markdown",
   "id": "34832d88",
   "metadata": {},
   "source": [
    "# seperating the numeric and categorical data for better understanding "
   ]
  },
  {
   "cell_type": "code",
   "execution_count": 12,
   "id": "bc9d6886",
   "metadata": {},
   "outputs": [
    {
     "data": {
      "text/html": [
       "<div>\n",
       "<style scoped>\n",
       "    .dataframe tbody tr th:only-of-type {\n",
       "        vertical-align: middle;\n",
       "    }\n",
       "\n",
       "    .dataframe tbody tr th {\n",
       "        vertical-align: top;\n",
       "    }\n",
       "\n",
       "    .dataframe thead th {\n",
       "        text-align: right;\n",
       "    }\n",
       "</style>\n",
       "<table border=\"1\" class=\"dataframe\">\n",
       "  <thead>\n",
       "    <tr style=\"text-align: right;\">\n",
       "      <th></th>\n",
       "      <th>country</th>\n",
       "      <th>country_long</th>\n",
       "      <th>name</th>\n",
       "      <th>gppd_idnr</th>\n",
       "      <th>primary_fuel</th>\n",
       "      <th>other_fuel1</th>\n",
       "      <th>owner</th>\n",
       "      <th>source</th>\n",
       "      <th>url</th>\n",
       "      <th>geolocation_source</th>\n",
       "      <th>generation_data_source</th>\n",
       "    </tr>\n",
       "  </thead>\n",
       "  <tbody>\n",
       "    <tr>\n",
       "      <th>0</th>\n",
       "      <td>IND</td>\n",
       "      <td>India</td>\n",
       "      <td>ACME Solar Tower</td>\n",
       "      <td>WRI1020239</td>\n",
       "      <td>Solar</td>\n",
       "      <td>NaN</td>\n",
       "      <td>Solar Paces</td>\n",
       "      <td>National Renewable Energy Laboratory</td>\n",
       "      <td>http://www.nrel.gov/csp/solarpaces/project_det...</td>\n",
       "      <td>National Renewable Energy Laboratory</td>\n",
       "      <td>NaN</td>\n",
       "    </tr>\n",
       "    <tr>\n",
       "      <th>1</th>\n",
       "      <td>IND</td>\n",
       "      <td>India</td>\n",
       "      <td>ADITYA CEMENT WORKS</td>\n",
       "      <td>WRI1019881</td>\n",
       "      <td>Coal</td>\n",
       "      <td>NaN</td>\n",
       "      <td>Ultratech Cement ltd</td>\n",
       "      <td>Ultratech Cement ltd</td>\n",
       "      <td>http://www.ultratechcement.com/</td>\n",
       "      <td>WRI</td>\n",
       "      <td>NaN</td>\n",
       "    </tr>\n",
       "    <tr>\n",
       "      <th>2</th>\n",
       "      <td>IND</td>\n",
       "      <td>India</td>\n",
       "      <td>AES Saurashtra Windfarms</td>\n",
       "      <td>WRI1026669</td>\n",
       "      <td>Wind</td>\n",
       "      <td>NaN</td>\n",
       "      <td>AES</td>\n",
       "      <td>CDM</td>\n",
       "      <td>https://cdm.unfccc.int/Projects/DB/DNV-CUK1328...</td>\n",
       "      <td>WRI</td>\n",
       "      <td>NaN</td>\n",
       "    </tr>\n",
       "    <tr>\n",
       "      <th>3</th>\n",
       "      <td>IND</td>\n",
       "      <td>India</td>\n",
       "      <td>AGARTALA GT</td>\n",
       "      <td>IND0000001</td>\n",
       "      <td>Gas</td>\n",
       "      <td>NaN</td>\n",
       "      <td>NaN</td>\n",
       "      <td>Central Electricity Authority</td>\n",
       "      <td>http://www.cea.nic.in/</td>\n",
       "      <td>WRI</td>\n",
       "      <td>Central Electricity Authority</td>\n",
       "    </tr>\n",
       "    <tr>\n",
       "      <th>4</th>\n",
       "      <td>IND</td>\n",
       "      <td>India</td>\n",
       "      <td>AKALTARA TPP</td>\n",
       "      <td>IND0000002</td>\n",
       "      <td>Coal</td>\n",
       "      <td>Oil</td>\n",
       "      <td>NaN</td>\n",
       "      <td>Central Electricity Authority</td>\n",
       "      <td>http://www.cea.nic.in/</td>\n",
       "      <td>WRI</td>\n",
       "      <td>Central Electricity Authority</td>\n",
       "    </tr>\n",
       "  </tbody>\n",
       "</table>\n",
       "</div>"
      ],
      "text/plain": [
       "  country country_long                      name   gppd_idnr primary_fuel  \\\n",
       "0     IND        India          ACME Solar Tower  WRI1020239        Solar   \n",
       "1     IND        India       ADITYA CEMENT WORKS  WRI1019881         Coal   \n",
       "2     IND        India  AES Saurashtra Windfarms  WRI1026669         Wind   \n",
       "3     IND        India               AGARTALA GT  IND0000001          Gas   \n",
       "4     IND        India              AKALTARA TPP  IND0000002         Coal   \n",
       "\n",
       "  other_fuel1                 owner                                source  \\\n",
       "0         NaN           Solar Paces  National Renewable Energy Laboratory   \n",
       "1         NaN  Ultratech Cement ltd                  Ultratech Cement ltd   \n",
       "2         NaN                   AES                                   CDM   \n",
       "3         NaN                   NaN         Central Electricity Authority   \n",
       "4         Oil                   NaN         Central Electricity Authority   \n",
       "\n",
       "                                                 url  \\\n",
       "0  http://www.nrel.gov/csp/solarpaces/project_det...   \n",
       "1                    http://www.ultratechcement.com/   \n",
       "2  https://cdm.unfccc.int/Projects/DB/DNV-CUK1328...   \n",
       "3                             http://www.cea.nic.in/   \n",
       "4                             http://www.cea.nic.in/   \n",
       "\n",
       "                     geolocation_source         generation_data_source  \n",
       "0  National Renewable Energy Laboratory                            NaN  \n",
       "1                                   WRI                            NaN  \n",
       "2                                   WRI                            NaN  \n",
       "3                                   WRI  Central Electricity Authority  \n",
       "4                                   WRI  Central Electricity Authority  "
      ]
     },
     "execution_count": 12,
     "metadata": {},
     "output_type": "execute_result"
    }
   ],
   "source": [
    "\n",
    "# CATEGORICAL DATA \n",
    "df_cat=df.select_dtypes(include=object)\n",
    "df_cat.head()"
   ]
  },
  {
   "cell_type": "code",
   "execution_count": 13,
   "id": "668b9954",
   "metadata": {},
   "outputs": [
    {
     "data": {
      "text/plain": [
       "(908, 11)"
      ]
     },
     "execution_count": 13,
     "metadata": {},
     "output_type": "execute_result"
    }
   ],
   "source": [
    "df_cat.shape"
   ]
  },
  {
   "cell_type": "code",
   "execution_count": 14,
   "id": "51be849d",
   "metadata": {},
   "outputs": [
    {
     "data": {
      "text/html": [
       "<div>\n",
       "<style scoped>\n",
       "    .dataframe tbody tr th:only-of-type {\n",
       "        vertical-align: middle;\n",
       "    }\n",
       "\n",
       "    .dataframe tbody tr th {\n",
       "        vertical-align: top;\n",
       "    }\n",
       "\n",
       "    .dataframe thead th {\n",
       "        text-align: right;\n",
       "    }\n",
       "</style>\n",
       "<table border=\"1\" class=\"dataframe\">\n",
       "  <thead>\n",
       "    <tr style=\"text-align: right;\">\n",
       "      <th></th>\n",
       "      <th>capacity_mw</th>\n",
       "      <th>latitude</th>\n",
       "      <th>longitude</th>\n",
       "      <th>commissioning_year</th>\n",
       "      <th>year_of_capacity_data</th>\n",
       "      <th>generation_gwh_2013</th>\n",
       "      <th>generation_gwh_2014</th>\n",
       "      <th>generation_gwh_2015</th>\n",
       "      <th>generation_gwh_2016</th>\n",
       "      <th>generation_gwh_2017</th>\n",
       "    </tr>\n",
       "  </thead>\n",
       "  <tbody>\n",
       "    <tr>\n",
       "      <th>0</th>\n",
       "      <td>2.5</td>\n",
       "      <td>28.1839</td>\n",
       "      <td>73.2407</td>\n",
       "      <td>2011.0</td>\n",
       "      <td>NaN</td>\n",
       "      <td>NaN</td>\n",
       "      <td>NaN</td>\n",
       "      <td>NaN</td>\n",
       "      <td>NaN</td>\n",
       "      <td>NaN</td>\n",
       "    </tr>\n",
       "    <tr>\n",
       "      <th>1</th>\n",
       "      <td>98.0</td>\n",
       "      <td>24.7663</td>\n",
       "      <td>74.6090</td>\n",
       "      <td>NaN</td>\n",
       "      <td>NaN</td>\n",
       "      <td>NaN</td>\n",
       "      <td>NaN</td>\n",
       "      <td>NaN</td>\n",
       "      <td>NaN</td>\n",
       "      <td>NaN</td>\n",
       "    </tr>\n",
       "    <tr>\n",
       "      <th>2</th>\n",
       "      <td>39.2</td>\n",
       "      <td>21.9038</td>\n",
       "      <td>69.3732</td>\n",
       "      <td>NaN</td>\n",
       "      <td>NaN</td>\n",
       "      <td>NaN</td>\n",
       "      <td>NaN</td>\n",
       "      <td>NaN</td>\n",
       "      <td>NaN</td>\n",
       "      <td>NaN</td>\n",
       "    </tr>\n",
       "    <tr>\n",
       "      <th>3</th>\n",
       "      <td>135.0</td>\n",
       "      <td>23.8712</td>\n",
       "      <td>91.3602</td>\n",
       "      <td>2004.0</td>\n",
       "      <td>2018.0</td>\n",
       "      <td>631.777928</td>\n",
       "      <td>617.789264</td>\n",
       "      <td>843.747</td>\n",
       "      <td>886.004428</td>\n",
       "      <td>663.774500</td>\n",
       "    </tr>\n",
       "    <tr>\n",
       "      <th>4</th>\n",
       "      <td>1800.0</td>\n",
       "      <td>21.9603</td>\n",
       "      <td>82.4091</td>\n",
       "      <td>2015.0</td>\n",
       "      <td>2018.0</td>\n",
       "      <td>1668.290000</td>\n",
       "      <td>3035.550000</td>\n",
       "      <td>5916.370</td>\n",
       "      <td>6243.000000</td>\n",
       "      <td>5385.579736</td>\n",
       "    </tr>\n",
       "  </tbody>\n",
       "</table>\n",
       "</div>"
      ],
      "text/plain": [
       "   capacity_mw  latitude  longitude  commissioning_year  \\\n",
       "0          2.5   28.1839    73.2407              2011.0   \n",
       "1         98.0   24.7663    74.6090                 NaN   \n",
       "2         39.2   21.9038    69.3732                 NaN   \n",
       "3        135.0   23.8712    91.3602              2004.0   \n",
       "4       1800.0   21.9603    82.4091              2015.0   \n",
       "\n",
       "   year_of_capacity_data  generation_gwh_2013  generation_gwh_2014  \\\n",
       "0                    NaN                  NaN                  NaN   \n",
       "1                    NaN                  NaN                  NaN   \n",
       "2                    NaN                  NaN                  NaN   \n",
       "3                 2018.0           631.777928           617.789264   \n",
       "4                 2018.0          1668.290000          3035.550000   \n",
       "\n",
       "   generation_gwh_2015  generation_gwh_2016  generation_gwh_2017  \n",
       "0                  NaN                  NaN                  NaN  \n",
       "1                  NaN                  NaN                  NaN  \n",
       "2                  NaN                  NaN                  NaN  \n",
       "3              843.747           886.004428           663.774500  \n",
       "4             5916.370          6243.000000          5385.579736  "
      ]
     },
     "execution_count": 14,
     "metadata": {},
     "output_type": "execute_result"
    }
   ],
   "source": [
    "# THIS IS NUMERIC DATA \n",
    "\n",
    "df_num=df.select_dtypes(include=['float64','int64'])\n",
    "df_num.head()"
   ]
  },
  {
   "cell_type": "code",
   "execution_count": 15,
   "id": "e455581e",
   "metadata": {},
   "outputs": [
    {
     "data": {
      "text/plain": [
       "(908, 10)"
      ]
     },
     "execution_count": 15,
     "metadata": {},
     "output_type": "execute_result"
    }
   ],
   "source": [
    "df_num.shape"
   ]
  },
  {
   "cell_type": "code",
   "execution_count": 16,
   "id": "a2a473f7",
   "metadata": {},
   "outputs": [
    {
     "data": {
      "text/plain": [
       "capacity_mw                0\n",
       "latitude                  46\n",
       "longitude                 46\n",
       "commissioning_year       380\n",
       "year_of_capacity_data    388\n",
       "generation_gwh_2013      524\n",
       "generation_gwh_2014      507\n",
       "generation_gwh_2015      483\n",
       "generation_gwh_2016      471\n",
       "generation_gwh_2017      465\n",
       "dtype: int64"
      ]
     },
     "execution_count": 16,
     "metadata": {},
     "output_type": "execute_result"
    }
   ],
   "source": [
    "df_num.isna().sum()   # CHECKING THE NULL VALUES OF NUMERIC COLUMNS "
   ]
  },
  {
   "cell_type": "code",
   "execution_count": 17,
   "id": "9d48d252",
   "metadata": {},
   "outputs": [
    {
     "data": {
      "text/plain": [
       "country                     0\n",
       "country_long                0\n",
       "name                        0\n",
       "gppd_idnr                   0\n",
       "primary_fuel                0\n",
       "other_fuel1               709\n",
       "owner                     566\n",
       "source                      0\n",
       "url                         0\n",
       "geolocation_source         19\n",
       "generation_data_source    458\n",
       "dtype: int64"
      ]
     },
     "execution_count": 17,
     "metadata": {},
     "output_type": "execute_result"
    }
   ],
   "source": [
    "df_cat.isna().sum()  # CHECKING THE NULL VALUES OF CATEGORICAL COLUMNS "
   ]
  },
  {
   "cell_type": "code",
   "execution_count": 18,
   "id": "c6aceada",
   "metadata": {},
   "outputs": [
    {
     "data": {
      "text/plain": [
       "Oil             196\n",
       "Gas               2\n",
       "Cogeneration      1\n",
       "Name: other_fuel1, dtype: int64"
      ]
     },
     "execution_count": 18,
     "metadata": {},
     "output_type": "execute_result"
    }
   ],
   "source": [
    "df_cat['other_fuel1'].value_counts()"
   ]
  },
  {
   "cell_type": "code",
   "execution_count": 19,
   "id": "9505c1bd",
   "metadata": {},
   "outputs": [
    {
     "data": {
      "text/plain": [
       "'Acc Acc ltd'"
      ]
     },
     "execution_count": 19,
     "metadata": {},
     "output_type": "execute_result"
    }
   ],
   "source": [
    "df_cat['owner'].mode()[0]   #checking the most occuring values (mode)"
   ]
  },
  {
   "cell_type": "code",
   "execution_count": 20,
   "id": "7976e76b",
   "metadata": {},
   "outputs": [],
   "source": [
    "# applying mode on categorical data to remove null values\n",
    "\n",
    "for feat in df_cat.columns:\n",
    "    df_cat[feat].fillna(df_cat[feat].mode()[0],inplace=True)\n",
    "\n",
    "\n",
    "\n"
   ]
  },
  {
   "cell_type": "code",
   "execution_count": 21,
   "id": "36646aa4",
   "metadata": {},
   "outputs": [
    {
     "data": {
      "text/plain": [
       "country                   0\n",
       "country_long              0\n",
       "name                      0\n",
       "gppd_idnr                 0\n",
       "primary_fuel              0\n",
       "other_fuel1               0\n",
       "owner                     0\n",
       "source                    0\n",
       "url                       0\n",
       "geolocation_source        0\n",
       "generation_data_source    0\n",
       "dtype: int64"
      ]
     },
     "execution_count": 21,
     "metadata": {},
     "output_type": "execute_result"
    }
   ],
   "source": [
    "df_cat.isna().sum()   # NULL VALUES ARE REMOVED "
   ]
  },
  {
   "cell_type": "code",
   "execution_count": null,
   "id": "9567c064",
   "metadata": {},
   "outputs": [],
   "source": []
  },
  {
   "cell_type": "markdown",
   "id": "5f2991fa",
   "metadata": {},
   "source": [
    "# plotting all the numeric columns on boxplot to check the outliers "
   ]
  },
  {
   "cell_type": "code",
   "execution_count": 22,
   "id": "4f4bd884",
   "metadata": {},
   "outputs": [],
   "source": [
    "boxplot_columns=['capacity_mw', 'latitude', 'longitude', 'commissioning_year',\n",
    "       'year_of_capacity_data', 'generation_gwh_2013', 'generation_gwh_2014',\n",
    "       'generation_gwh_2015', 'generation_gwh_2016', 'generation_gwh_2017']\n",
    "      "
   ]
  },
  {
   "cell_type": "code",
   "execution_count": 23,
   "id": "7e5688f5",
   "metadata": {},
   "outputs": [
    {
     "data": {
      "image/png": "[encoded data removed]",
      "text/plain": [
       "<Figure size 720x360 with 1 Axes>"
      ]
     },
     "metadata": {
      "needs_background": "light"
     },
     "output_type": "display_data"
    },
    {
     "data": {
      "image/png": "[encoded data removed]",
      "text/plain": [
       "<Figure size 720x360 with 1 Axes>"
      ]
     },
     "metadata": {
      "needs_background": "light"
     },
     "output_type": "display_data"
    },
    {
     "data": {
      "image/png": "[encoded data removed]",
      "text/plain": [
       "<Figure size 720x360 with 1 Axes>"
      ]
     },
     "metadata": {
      "needs_background": "light"
     },
     "output_type": "display_data"
    },
    {
     "data": {
      "image/png": "[encoded data removed]",
      "text/plain": [
       "<Figure size 720x360 with 1 Axes>"
      ]
     },
     "metadata": {
      "needs_background": "light"
     },
     "output_type": "display_data"
    },
    {
     "data": {
      "image/png": "[encoded data removed]",
      "text/plain": [
       "<Figure size 720x360 with 1 Axes>"
      ]
     },
     "metadata": {
      "needs_background": "light"
     },
     "output_type": "display_data"
    },
    {
     "data": {
      "image/png": "[encoded data removed]",
      "text/plain": [
       "<Figure size 720x360 with 1 Axes>"
      ]
     },
     "metadata": {
      "needs_background": "light"
     },
     "output_type": "display_data"
    },
    {
     "data": {
      "image/png": "[encoded data removed]",
      "text/plain": [
       "<Figure size 720x360 with 1 Axes>"
      ]
     },
     "metadata": {
      "needs_background": "light"
     },
     "output_type": "display_data"
    },
    {
     "data": {
      "image/png": "[encoded data removed]",
      "text/plain": [
       "<Figure size 720x360 with 1 Axes>"
      ]
     },
     "metadata": {
      "needs_background": "light"
     },
     "output_type": "display_data"
    },
    {
     "data": {
      "image/png": "[encoded data removed]",
      "text/plain": [
       "<Figure size 720x360 with 1 Axes>"
      ]
     },
     "metadata": {
      "needs_background": "light"
     },
     "output_type": "display_data"
    },
    {
     "data": {
      "image/png": "[encoded data removed]",
      "text/plain": [
       "<Figure size 720x360 with 1 Axes>"
      ]
     },
     "metadata": {
      "needs_background": "light"
     },
     "output_type": "display_data"
    }
   ],
   "source": [
    "for i in boxplot_columns:\n",
    "    plt.figure(figsize=(10,5))\n",
    "    fig=df_num.boxplot(column=i)\n",
    "    fig.set_ylabel(i)"
   ]
  },
  {
   "cell_type": "code",
   "execution_count": 24,
   "id": "90feef40",
   "metadata": {},
   "outputs": [
    {
     "name": "stdout",
     "output_type": "stream",
     "text": [
      "71.6917    4\n",
      "71.6918    3\n",
      "75.8988    3\n",
      "72.8983    3\n",
      "81.2875    3\n",
      "          ..\n",
      "80.1264    1\n",
      "76.1137    1\n",
      "74.6447    1\n",
      "86.0970    1\n",
      "79.5748    1\n",
      "Name: longitude, Length: 828, dtype: int64\n",
      "[73.2407 74.609  69.3732 91.3602 82.4091 68.6447 77.0078 77.207  75.8863\n",
      " 81.6373 77.9009 76.4938 82.8    77.8769     nan 82.7891 76.3188 81.7841\n",
      " 81.7865 76.1851 74.7061 74.9191 79.5286 83.2741 79.1518 74.2402 76.3926\n",
      " 77.687  73.6396 77.1893 76.3482 71.6917 71.6918 71.6916 80.2695 77.3066\n",
      " 75.225  75.3155 76.1418 87.4513 82.1221 79.3421 74.689  82.4305 88.4042\n",
      " 76.4695 81.2875 81.2747 74.2562 83.1889 91.565  86.0218 79.925  85.7452\n",
      " 79.8066 73.2    80.2682 78.241  76.7986 74.5345 79.0547 74.8209 74.7111\n",
      " 76.7909 77.1036 76.7195 75.6373 75.7131 76.4328 79.6311 79.7708 73.8087\n",
      " 73.7252 73.4173 72.2222 77.758  77.8659 77.7145 74.7529 81.4237 73.3907\n",
      " 73.3498 73.4527 75.8425 74.6216 78.1606 78.1336 73.0901 83.2058 76.6537\n",
      " 81.0333 86.0888 85.88   90.5287 74.1543 76.3744 88.14   76.532  78.9535\n",
      " 78.9333 76.1807 73.5286 77.416  72.3188 72.3134 72.3554 72.3042 69.843\n",
      " 69.8441 72.3245 72.3388 70.8304 74.5417 75.5625 74.7007 68.8782 71.5782\n",
      " 75.0565 73.286  69.0255 75.49   71.5212 82.5532 76.2552 75.9857 76.44\n",
      " 79.1133 74.6367 74.6656 79.1346 79.1757 86.1273 79.29   76.2477 76.0376\n",
      " 75.1705 77.0357 77.7915 78.2203 76.1137 88.6659 77.0825 79.2712 71.1881\n",
      " 70.4603 83.1107 87.3023 77.6078 77.6101 75.6189 72.0091 80.1264 76.377\n",
      " 74.6338 75.8808 76.8686 84.9843 72.6215 77.7368 77.6821 72.7478 79.2033\n",
      " 80.5727 77.8492 72.752  73.004  88.5247 92.9737 75.0382 73.039  81.8296\n",
      " 94.2612 74.0095 75.8448 75.7985 81.2099 87.25   87.2043 77.6314 74.6283\n",
      " 72.8899 74.6215 75.8988 72.1999 70.0773 72.0083 72.651  76.733  73.9269\n",
      " 72.655  69.8442 76.5137 73.7839 87.894  77.3615 77.6458 73.1017 69.9494\n",
      " 76.182  76.2787 78.9632 73.1136 74.7781 72.6765 75.5529 76.492  82.1286\n",
      " 79.104  73.9765 77.7786 74.6447 73.6509 75.1661 79.12   77.4968 75.8613\n",
      " 78.9793 74.9247 82.3097 75.1464 79.1845 81.8111 77.1325 91.8223 75.5868\n",
      " 72.3896 72.3969 72.669  92.7109 72.2241 72.5377 76.6551 69.9187 74.6188\n",
      " 74.6567 77.1596 88.1764 76.3379 74.4045 82.5977 76.4004 69.7399 72.6613\n",
      " 77.1384 83.8754 76.6279 75.5639 74.3091 77.4588 70.6722 70.2313 78.1326\n",
      " 75.762  76.3224 83.86   77.2504 76.7137 77.0555 79.0556 76.1906 83.92\n",
      " 88.0995 76.4728 76.3754 79.7515 76.0223 72.5235 74.6641 75.6778 72.2242\n",
      " 88.8747 71.3236 73.0017 81.1698 81.1748 81.3293 81.86   74.7994 86.2491\n",
      " 88.2924 73.212  71.2801 87.0695 70.509  70.5465 72.7629 70.3961 74.2393\n",
      " 77.0435 73.8254 74.3916 87.2635 74.4385 79.8265 76.9717 73.3489 74.5268\n",
      " 76.0986 77.0697 77.4389 80.831  85.2671 73.917  74.2459 79.8216 92.5171\n",
      " 78.1073 76.1299 79.5287 82.5549 74.9929 75.4568 95.408  76.737  72.6879\n",
      " 76.4283 75.3131 73.6116 80.8307 92.6679 77.6017 80.0243 77.8001 73.3558\n",
      " 73.259  74.7514 77.0411 74.5904 77.3125 85.5517 75.8067 87.8713 76.8761\n",
      " 74.4583 74.2993 74.1201 76.7606 81.8622 80.5504 76.9787 76.2507 79.096\n",
      " 82.6858 82.7188 82.6888 86.9549 75.8171 75.8883 78.4971 79.4507 73.684\n",
      " 77.0912 75.8349 77.6296 76.6511 77.1327 75.5302 82.0841 68.7843 77.1068\n",
      " 79.57   80.6144 91.7895 80.6936 79.116  70.9996 78.3917 70.388  77.6191\n",
      " 74.2524 74.2553 78.6025 78.6001 73.2014 75.0381 71.9951 71.991  76.589\n",
      " 70.0548 70.0536 72.3236 74.3272 71.026  79.5898 68.6988 77.2471 76.6709\n",
      " 77.7126 76.1901 94.8833 78.6463 83.4573 77.212  74.8388 77.537  71.4974\n",
      " 73.2032 75.7161 93.6696 74.5281 77.7773 77.7583 76.957  81.6814 77.6055\n",
      " 74.3316 75.4023 75.4826 69.827  71.5322 74.0733 80.1754 82.4645 77.0225\n",
      " 77.8348 86.0613 82.4172 76.351  78.5814 74.5062 72.8963 80.7997 86.8284\n",
      " 86.76   77.2494 76.4591 78.4238 74.8496 73.3529 75.9522 75.0462 73.8144\n",
      " 79.1761 76.8798 79.2206 82.6022 78.3717 81.9415 87.1311 78.1374 77.8138\n",
      " 77.8085 78.9334 91.274  74.4072 79.3978 76.6919 70.7381 75.7965 75.3005\n",
      " 75.836  79.7148 72.8948 72.9465 72.8997 69.5532 69.5281 76.3288 75.1002\n",
      " 73.3638 85.3017 92.2279 73.9032 75.781  75.3099 75.308  68.9925 70.7455\n",
      " 70.681  73.5081 78.4089 84.1588 79.3442 79.4909 75.408  73.1862 79.485\n",
      " 79.0548 79.2455 95.376  78.8132 76.3369 76.9792 73.8896 74.0835 77.98\n",
      " 83.2788 76.4014 91.8239 79.4611 79.4704 79.4417 79.4408 79.4159 81.9045\n",
      " 74.6843 77.1842 74.6092 77.9576 76.3154 80.3257 91.981  79.3389 76.0718\n",
      " 77.6873 81.8717 77.5713 75.3789 72.206  72.9661 77.4753 82.9655 82.9803\n",
      " 76.1619 71.0643 68.6975 79.834  72.979  80.1431 75.3696 91.4385 77.0548\n",
      " 74.9175 86.7473 76.8763 80.241  77.0281 77.3627 76.7948 77.2576 76.7282\n",
      " 78.7588 76.5254 76.6045 73.1814 82.7246 78.0415 73.4948 82.1283 79.2086\n",
      " 77.7147 77.1905 71.4693 78.2563 75.9469 76.617  77.0706 77.2528 77.7036\n",
      " 81.6594 80.0525 74.7531 86.097  76.6011 68.7653 73.8368 74.3795 70.2729\n",
      " 72.2677 75.5622 72.0078 72.0099 70.5948 70.6216 77.5777 77.4501 70.7432\n",
      " 71.9424 74.546  75.5794 74.1234 73.9616 86.661  77.3422 77.3608 83.2331\n",
      " 81.8525 77.1749 77.2542 78.2322 75.869  74.1197 76.577  77.4524 78.7574\n",
      " 70.538  88.1376 77.5927 93.8168 88.2921 76.245  75.7305 74.1878 82.493\n",
      " 73.167  78.4577 73.877  85.0355 82.7915 83.0361 77.1016 75.832  91.1948\n",
      " 76.5847 79.936  79.4494 79.456  76.719  76.7329 78.4805 75.1631 79.4873\n",
      " 70.0097 75.679  70.7736 72.2164 72.2127 72.2193 72.1577 72.4706 74.8763\n",
      " 75.9246 70.6004 73.7559 73.7501 77.0727 88.1046 75.1361 74.8097 69.7101\n",
      " 82.6062 78.4038 78.0445 75.0411 74.4272 74.4821 74.5898 78.4835 81.0668\n",
      " 74.5003 86.4666 76.8302 82.6275 80.858  78.173  74.1924 79.9123 80.1443\n",
      " 77.0309 77.3048 75.8215 75.9006 76.8072 74.7673 77.1906 74.5854 76.7305\n",
      " 76.879  74.3858 74.7162 74.8405 75.8832 74.2673 69.8276 83.0917 80.0838\n",
      " 79.5748 82.7068 78.0876 82.293  80.0407 77.165  77.246  74.8397 88.2926\n",
      " 78.7924 78.9007 78.9118 77.7142 84.0404 85.555  72.9889 73.106  74.0202\n",
      " 77.2726 73.0575 82.5257 82.7047 77.6271 77.3199 77.591  83.4538 83.4632\n",
      " 77.3841 74.3862 74.3529 75.7767 73.9096 71.0063 77.1638 70.6206 70.6146\n",
      " 70.6268 73.9074 74.631  74.3386 76.5317 82.6415 78.4487 71.9324 70.6958\n",
      " 70.7262 70.5443 74.3686 70.6417 79.2036 79.1863 85.2072 85.074  75.2372\n",
      " 83.4513 80.0946 82.602  74.816  72.6617 88.2332 77.9635 88.3155 88.4604\n",
      " 88.4562 88.443  88.6505 78.4795 85.8936 72.8709 73.0258 76.7817 74.1588\n",
      " 85.5198 79.9671 88.371  76.6622 72.5933 72.8983 72.8967 72.8892 92.8837\n",
      " 76.8756 78.1753 78.1699 77.5077 77.659  74.7001 85.0987 77.6752 75.5767\n",
      " 74.8441 77.3709 77.3355 72.8536 77.3785 77.33   69.8323 75.5819 88.5572\n",
      " 83.1215 74.8002 75.1197 73.5917 73.5574 73.5866 91.9003 91.8114 81.3274\n",
      " 72.9895 77.5123 82.8594 82.5934 82.0179 75.1245 72.9715 72.9293 74.1857\n",
      " 74.0318 76.0584 72.8705 82.3166 77.237  77.5905 73.502  78.9215 80.3023\n",
      " 78.9235 74.9484 77.6515 77.5526 77.293  81.8141 75.3218 77.1513 80.537\n",
      " 80.5382 81.7245 74.8012 82.6719 74.0968 79.5468 83.1382 74.9885 73.1273\n",
      " 76.9775 73.3588 78.9792 78.6385 73.866  77.5684 72.4397 79.0237 77.2216\n",
      " 77.4466 70.6877 77.3257 74.2456 77.5838 77.3568 78.1654 75.5811 73.7477\n",
      " 77.4768]\n",
      "2013.0    28\n",
      "2015.0    26\n",
      "2012.0    23\n",
      "2016.0    21\n",
      "2014.0    17\n",
      "          ..\n",
      "1958.0     1\n",
      "1949.0     1\n",
      "1954.0     1\n",
      "1956.0     1\n",
      "1927.0     1\n",
      "Name: commissioning_year, Length: 73, dtype: int64\n",
      "[2011.   nan 2004. 2015. 2005. 1970. 2010. 2008. 2014. 1985. 1986. 1987.\n",
      " 2000. 1989. 2017. 1998. 1977. 1980. 2003. 1984. 1973. 1996. 1991. 2002.\n",
      " 2001. 2006. 2007. 1988. 2012. 1968. 1964. 2016. 2013. 1962. 1993. 1997.\n",
      " 1999. 1994. 1975. 1992. 1972. 1979. 1967. 1995. 1983. 1981. 1959. 1961.\n",
      " 1957. 1978. 1976. 1963. 1971. 1955. 2018. 2009. 1966. 1965. 1960. 1949.\n",
      " 1952. 1990. 1982. 1937. 1956. 1946. 1958. 1943. 1954. 1969. 1939. 1927.\n",
      " 1974. 1953.]\n",
      "0.00000        21\n",
      "14881.88000     1\n",
      "42.49645        1\n",
      "2036.00000      1\n",
      "97.73885        1\n",
      "               ..\n",
      "7229.33000      1\n",
      "657.21740       1\n",
      "507.89775       1\n",
      "8556.42400      1\n",
      "8211.00000      1\n",
      "Name: generation_gwh_2013, Length: 364, dtype: int64\n",
      "[           nan 6.31777928e+02 1.66829000e+03 8.21798000e+02\n",
      " 1.47568450e+02 6.96738800e+02 5.04813250e+02 2.64232200e+03\n",
      " 1.03405000e+03 7.31334950e+02 6.39700000e+03 7.13299500e+03\n",
      " 1.91994200e+03 1.73000000e+03 0.00000000e+00 8.04286000e+02\n",
      " 3.76900000e+03 2.78580100e+03 6.34849800e+02 6.27422600e+03\n",
      " 1.64754090e+03 1.18871000e+03 1.65046620e+03 1.47080900e+02\n",
      " 1.23778000e+02 2.27570000e+00 2.57835110e+02 5.44672950e+02\n",
      " 4.87135000e+00 4.48100000e+02 1.25663600e+03 8.21705000e-01\n",
      " 1.33876255e+03 2.27506750e+02 5.65200000e+03 6.34710500e+01\n",
      " 6.17923855e+03 9.03460000e+01 8.56894000e+01 2.49148000e+01\n",
      " 4.10935000e+01 3.31861000e+03 9.64612700e+02 9.48732500e+01\n",
      " 3.03007350e+02 4.36099800e+03 1.42839040e+03 1.52042000e+03\n",
      " 2.79729000e+01 3.36680000e+02 5.49337000e+03 2.20064150e+02\n",
      " 4.16100000e+02 3.30880000e+00 1.38911950e+03 2.32916565e+03\n",
      " 9.33170700e+02 4.34797410e+03 9.91777200e+03 8.65650000e+01\n",
      " 2.82268300e+03 9.45051000e+02 7.80686950e+02 3.40091000e+01\n",
      " 2.89962900e+02 1.50125000e+03 1.23120000e+04 3.31500000e+03\n",
      " 3.14288660e+03 1.69766900e+02 2.53884200e+02 3.73881000e+03\n",
      " 1.66920000e+02 2.80898450e+02 9.33068600e+02 1.82130000e+02\n",
      " 2.44481450e+02 2.13933955e+03 1.67885200e+03 4.11768200e+03\n",
      " 1.24060000e+04 1.68662000e+03 1.01502000e+03 1.28100000e+03\n",
      " 1.71001200e+03 4.03562050e+02 5.03171500e+02 9.50000000e+01\n",
      " 8.17492000e+01 3.92089700e+02 5.47516000e+03 2.29068900e+02\n",
      " 1.98499000e+03 1.45288900e+03 1.05642300e+03 2.50252450e+02\n",
      " 2.67900000e+02 1.01438260e+03 2.43267930e+03 2.54712200e+03\n",
      " 1.00904300e+03 3.84149600e+02 2.72508610e+03 2.27550000e+01\n",
      " 4.05828660e+03 4.92362800e+03 3.20817850e+02 1.57717450e+02\n",
      " 3.69734000e+03 9.60735000e+02 2.66053050e+02 2.10200000e+03\n",
      " 6.76875000e+03 5.01997400e+02 4.09024600e+02 3.65075450e+02\n",
      " 1.34273700e+04 5.93797000e+03 2.94281000e+03 2.46421700e+02\n",
      " 2.99902300e+03 2.63011335e+03 4.67331600e+02 1.18556900e+03\n",
      " 2.41245410e+02 4.20029300e+02 4.62999370e+03 6.96220000e+02\n",
      " 1.67305600e+03 1.68722168e+03 3.43900000e+03 1.35000000e+03\n",
      " 9.41000000e+02 4.40420000e+02 1.78512950e+02 4.16526900e+02\n",
      " 1.14216050e+02 4.33760300e+02 3.21315350e+02 3.26300300e+02\n",
      " 1.58035850e+02 1.40384300e+03 1.86779240e+02 5.59218200e+03\n",
      " 1.39963000e+03 7.89840950e+02 2.06639000e+03 1.93530000e+04\n",
      " 4.32904000e+03 7.11889000e+03 8.52627600e+03 1.51424075e+03\n",
      " 4.81520300e+02 4.60268000e+02 3.80910875e+03 1.77627400e+02\n",
      " 1.52060875e+03 4.43420000e+02 1.55296000e+03 5.94390000e+02\n",
      " 8.45560950e+02 1.32902150e+02 3.82249200e+03 6.49200000e+03\n",
      " 6.45709000e+03 8.34349000e+02 5.95746300e+02 2.66600300e+02\n",
      " 6.36640800e+02 5.13917500e+02 2.78251750e+02 5.98004950e+02\n",
      " 1.26213760e+03 1.89200000e+03 5.70025550e+02 1.35847350e+02\n",
      " 2.28903000e+03 7.34090000e+02 5.82462000e+03 2.25964500e+02\n",
      " 9.74403500e+01 5.96318000e+03 6.54918950e+02 1.20923345e+03\n",
      " 4.63230000e+02 1.15400100e+02 7.22933000e+03 4.72403000e+03\n",
      " 5.92809700e+03 4.59063150e+02 1.84619200e+03 2.44388000e+02\n",
      " 6.64000000e+02 1.47687850e+02 1.24049635e+03 2.75862000e+04\n",
      " 2.19730000e+04 1.01878050e+02 2.81981000e+02 4.12337950e+02\n",
      " 2.40300000e+03 1.30858420e+03 4.94983000e+02 3.63941150e+02\n",
      " 3.82174000e+03 7.15457735e+03 3.01355400e+03 3.59497100e+03\n",
      " 1.01043300e+04 1.89090000e+01 1.71826400e+03 5.03669000e+01\n",
      " 2.73580000e+02 3.72006400e+03 1.89946110e+03 9.77388500e+01\n",
      " 2.50322100e+02 2.02134250e+02 3.54860900e+03 1.62505390e+03\n",
      " 1.42571413e+03 2.46820000e+02 9.58884000e+02 2.14472250e+02\n",
      " 1.27061500e+02 4.65907630e+03 6.28421400e+02 1.69478350e+02\n",
      " 1.37011500e+02 2.99863200e+03 4.75610000e+00 5.77078000e+03\n",
      " 2.99844600e+03 4.24964500e+01 2.03600000e+03 4.66297800e+02\n",
      " 4.25153550e+02 4.60635250e+02 8.48635500e+01 1.75819485e+03\n",
      " 1.22096450e+02 6.05533700e+02 2.35681600e+03 2.69436050e+02\n",
      " 7.80796400e+02 6.43665500e+01 3.97343300e+02 8.21100000e+03\n",
      " 5.07897750e+02 8.80142000e+03 7.44344000e+03 3.23041500e+02\n",
      " 5.61478500e+01 4.12632080e+03 3.49190000e+02 2.32422050e+02\n",
      " 6.12577000e+02 2.64053100e+02 1.99000000e-02 9.76035300e+02\n",
      " 3.52727500e+02 1.56801055e+03 1.84214000e+02 1.40918600e+03\n",
      " 6.34832000e+03 2.34000000e+02 9.06027100e+02 1.70610000e+04\n",
      " 5.01460100e+02 4.49670000e+02 7.33019000e+03 6.89900000e+03\n",
      " 3.95054800e+02 1.85600000e+04 6.57217400e+02 5.19568105e+03\n",
      " 1.62703395e+03 2.95190000e+03 3.21849665e+03 5.03100000e+03\n",
      " 2.99152903e+02 3.46690000e+02 5.33797600e+02 7.30767900e+03\n",
      " 2.46344000e+03 1.37300050e+02 2.74791825e+03 4.19136400e+03\n",
      " 1.41150700e+02 4.99012400e+02 3.54110550e+02 5.56550265e+03\n",
      " 6.16084100e+02 2.32163350e+02 2.65754550e+02 5.25139000e+02\n",
      " 1.38390000e+04 1.97100700e+03 1.48818800e+04 1.80330000e+04\n",
      " 2.17974650e+02 9.49050000e+02 1.30827575e+03 1.45688895e+03\n",
      " 7.64000000e+03 1.08982350e+02 2.23000000e+03 2.61703300e+03\n",
      " 8.55642400e+03 9.99477500e+01 1.96230000e+02 8.06646500e+01\n",
      " 3.42449000e+03 2.03470000e+04 9.24400000e+01 3.82259100e+02\n",
      " 3.15200000e+03 8.96559500e+03 2.28796270e+03 1.86015250e+02\n",
      " 4.04012785e+03 1.99951000e+03 1.26499000e+03 1.16096600e+02\n",
      " 9.61535000e+03 1.62946000e+03 4.56445000e+03 2.02878000e+03\n",
      " 2.46553000e+03 4.53680000e+02 1.24160000e+03 5.00400000e+03\n",
      " 7.25261700e+03 7.82209087e+02 3.60190000e+02 6.37182000e+03\n",
      " 4.49976400e+03 8.08835500e+02 2.52948900e+02 7.20449000e+03\n",
      " 2.50448465e+03 8.67550450e+02 4.57839300e+02 2.13815550e+02\n",
      " 3.19367700e+03 2.50815620e+03 4.01741200e+02 7.95500000e+00\n",
      " 4.78470000e+02 1.32305150e+02 3.62206000e+02 3.68391000e+03\n",
      " 1.18079100e+03 1.31386765e+03 1.71970000e+02 8.18743000e+03\n",
      " 3.59555300e+03 1.02479700e+03 2.67613900e+04 4.35710500e+02\n",
      " 4.54202800e+03 2.31132000e+03 2.03975000e+02 3.15801600e+03\n",
      " 2.09000000e+01]\n",
      "0.00000       28\n",
      "6803.31250     1\n",
      "4735.13000     1\n",
      "145.81400      1\n",
      "2022.57000     1\n",
      "              ..\n",
      "6224.00000     1\n",
      "268.48085      1\n",
      "1255.73200     1\n",
      "164.32425      1\n",
      "1153.65300     1\n",
      "Name: generation_gwh_2014, Length: 374, dtype: int64\n",
      "[           nan 6.17789264e+02 3.03555000e+03 1.15342100e+03\n",
      " 1.57558250e+02 6.74391100e+02 4.80594950e+02 1.88790400e+03\n",
      " 1.92097100e+03 6.14412500e+02 7.74400000e+03 9.67087900e+03\n",
      " 1.61198700e+03 1.60700000e+03 0.00000000e+00 5.73274000e+02\n",
      " 2.93600000e+03 2.92521045e+03 7.92686650e+02 7.23528100e+03\n",
      " 1.33253385e+03 9.46141000e+02 1.07595320e+03 8.56595500e+01\n",
      " 1.20444750e+02 2.65780000e+02 3.04832800e+02 4.95967700e+02\n",
      " 1.22100000e+03 5.05760000e+02 1.25573200e+03 2.85387000e+00\n",
      " 1.24631710e+03 2.93534950e+02 5.44576300e+03 5.03370500e+01\n",
      " 5.24180925e+03 6.50730000e+01 1.36872200e+02 6.75605000e+01\n",
      " 2.96272000e+03 8.32884650e+02 9.07937500e+01 2.99176600e+02\n",
      " 5.85507000e+03 2.23699080e+03 1.43887000e+03 8.11580000e+00\n",
      " 1.45560000e+02 5.37195000e+03 2.34650850e+02 3.30595670e+03\n",
      " 3.73919000e+02 1.49121645e+03 2.53904100e+03 1.01567610e+03\n",
      " 4.48805700e+03 1.13858420e+04 5.71269300e+01 4.08853900e+03\n",
      " 8.67739500e+02 7.96487550e+02 3.53225000e+01 4.28705700e+02\n",
      " 1.22869000e+03 1.14660000e+04 2.46200000e+03 1.02538450e+03\n",
      " 3.13530470e+03 4.81945750e+02 1.48662950e+02 2.29984300e+02\n",
      " 3.64226000e+03 3.82450000e+02 7.39772550e+02 8.29114200e+02\n",
      " 1.45814000e+02 1.64324250e+02 2.16554785e+03 1.15365300e+03\n",
      " 3.63339600e+03 1.24670000e+04 1.52700000e+03 6.99400000e+02\n",
      " 1.56200000e+03 3.03457500e+03 2.70789250e+02 4.20775550e+02\n",
      " 6.57098000e+01 3.18648750e+02 4.11733900e+03 1.98820900e+02\n",
      " 3.27735000e+03 1.28612000e+03 5.25099000e+02 3.37232000e+02\n",
      " 2.03975000e+00 2.56889100e+02 2.06547000e+02 8.82664500e+02\n",
      " 3.27484000e+03 2.49854600e+03 9.04388000e+02 3.70796700e+02\n",
      " 2.48172900e+03 2.52919050e+03 6.58752700e+03 2.94689150e+02\n",
      " 1.08872900e+02 6.55564000e+03 5.73441000e+02 3.45155550e+02\n",
      " 2.69270000e+03 6.94229000e+03 4.99987500e+02 2.10472350e+02\n",
      " 4.03114300e+02 1.44710000e+04 5.86694000e+03 4.10629000e+03\n",
      " 1.91975300e+02 3.15500000e+03 3.23914290e+03 4.51053400e+02\n",
      " 1.15434200e+03 4.43670000e+03 9.50355786e+01 4.00417850e+02\n",
      " 4.21922785e+03 5.60352000e+02 1.56416300e+03 1.69581264e+03\n",
      " 7.39900000e+03 1.69400000e+03 7.92000000e+02 4.74370000e+02\n",
      " 8.74207000e+01 3.62100400e+02 4.49541000e+01 4.04955050e+02\n",
      " 3.02231250e+02 3.83831200e+02 2.01009900e+02 1.72142600e+03\n",
      " 1.94114790e+02 6.44976100e+03 2.50000000e-01 5.59010000e+02\n",
      " 6.26312700e+02 2.02257000e+03 1.88070000e+04 5.37374580e+03\n",
      " 9.01341730e+03 8.01025300e+03 1.20411915e+03 4.28168400e+02\n",
      " 3.73224700e+02 3.03654100e+03 1.55379200e+02 1.54291665e+03\n",
      " 3.87532315e+03 4.83043000e+02 1.39387900e+03 4.52527000e+02\n",
      " 7.36767650e+02 1.12534500e+02 3.96814100e+03 6.79230300e+03\n",
      " 7.51313400e+03 8.55342825e+02 6.06641550e+02 2.54988650e+02\n",
      " 3.70577800e+02 5.97865650e+02 2.65376450e+02 5.74264250e+02\n",
      " 1.28067445e+03 2.35663000e+03 5.17191050e+02 9.66742000e+01\n",
      " 1.99965000e+03 4.68360000e+02 6.14780000e+03 1.84910800e+02\n",
      " 1.37349800e+02 6.31100000e+03 5.75945800e+02 1.26171970e+03\n",
      " 4.73910000e+02 8.01373000e+01 5.52190000e+03 5.11195000e+03\n",
      " 8.05760000e+02 5.69739900e+03 4.40406900e+02 2.80237000e+03\n",
      " 2.09600000e+03 1.44006350e+02 1.04569525e+03 2.81270000e+04\n",
      " 2.45010000e+04 1.06664000e+02 7.66260000e+02 4.06935100e+02\n",
      " 2.53900000e+03 1.02746685e+03 5.69674000e+02 3.41583500e+02\n",
      " 3.73010200e+03 6.80331250e+03 3.10728200e+03 3.19310100e+03\n",
      " 1.00631800e+04 1.25380000e+02 1.68097600e+03 1.64389830e+03\n",
      " 7.51722500e+01 2.98280000e+02 3.86443400e+03 5.18707940e+03\n",
      " 4.18596500e+01 1.86353550e+02 2.27855000e+02 3.18274200e+03\n",
      " 1.12328535e+03 1.14296577e+03 2.90590000e+02 2.39179600e+03\n",
      " 2.10601700e+02 1.28613700e+02 3.92179000e+03 8.52537000e+02\n",
      " 1.54125500e+02 1.17638850e+02 2.59861800e+03 6.57476100e+02\n",
      " 5.67337400e+03 4.07952500e+03 3.46558500e+01 2.04234000e+03\n",
      " 1.60872800e+02 3.88179350e+02 5.24922200e+02 2.20585000e+00\n",
      " 1.28056500e+01 1.32072320e+03 1.50264900e+02 2.15608000e+03\n",
      " 1.79997600e+03 2.23526750e+02 1.40180575e+03 3.88050000e+01\n",
      " 3.65194850e+02 6.94500000e+03 3.79413400e+02 1.14724500e+01\n",
      " 9.98301800e+03 7.36839000e+03 2.02427500e+01 3.59139800e+02\n",
      " 8.21173500e+01 5.38026710e+03 5.37391000e+03 2.68480850e+02\n",
      " 1.15389723e+03 2.36163250e+02 1.31098215e+03 1.10393260e+03\n",
      " 3.26041600e+02 1.85348600e+03 2.15210000e+02 4.53550000e-02\n",
      " 6.42038600e+03 1.22140000e+01 7.38747700e+02 1.97840000e+04\n",
      " 5.71358850e+02 4.16230000e+02 5.26071000e+03 7.84742000e+03\n",
      " 1.73111100e+02 1.92240000e+04 6.08611650e+02 2.28626125e+03\n",
      " 1.21860635e+03 3.62878100e+03 3.47412210e+03 6.22400000e+03\n",
      " 1.24779200e+02 2.23650436e+02 2.43634000e+02 5.42364550e+02\n",
      " 6.22979300e+03 3.12574000e+03 1.33568800e+02 1.50690000e+04\n",
      " 5.53293700e+03 1.50613150e+02 5.94074700e+02 5.05280900e+02\n",
      " 5.22918270e+03 5.54115500e+02 2.37058750e+02 2.60272100e+02\n",
      " 8.29691000e+02 1.41960000e+04 2.88157400e+03 1.34310000e+04\n",
      " 2.06030000e+04 2.20820350e+02 9.05970000e+02 1.14696635e+03\n",
      " 1.79258205e+03 7.59900000e+03 3.35613500e+01 2.51900000e+03\n",
      " 2.86678400e+03 9.15518000e+03 1.02912850e+02 1.58458100e+03\n",
      " 1.81687000e+02 3.38200000e+03 2.22150000e+04 1.42372450e+03\n",
      " 2.32160000e+03 4.44476450e+02 2.79000000e+03 9.33500000e+03\n",
      " 1.42537730e+02 2.57381625e+03 3.92219050e+02 3.00843225e+03\n",
      " 2.10003000e+03 1.38061000e+03 1.13290700e+02 1.55010000e+04\n",
      " 1.54227000e+03 4.73513000e+03 2.07431000e+03 2.72000000e+03\n",
      " 7.70180000e+02 1.11927000e+03 3.79700000e+03 7.04332900e+03\n",
      " 6.34865000e+00 1.26260000e+03 3.81958610e+02 6.02085000e+03\n",
      " 6.10591600e+03 6.87176850e+02 2.51943950e+02 6.92500000e+03\n",
      " 2.68294785e+03 7.30807600e+02 5.19857650e+02 3.01803400e+02\n",
      " 3.39300900e+03 3.06123690e+03 1.18223910e+03 1.29215000e+02\n",
      " 4.85620000e+02 2.02800900e+02 3.86916000e+02 5.33731000e+03\n",
      " 1.01480000e+03 1.31386765e+03 8.19797000e+03 3.42930000e+03\n",
      " 6.38988500e+02 2.75940000e+04 1.80686030e+03 6.75387000e+03\n",
      " 1.04582000e+03 1.84453100e+02 3.19435982e+03]\n"
     ]
    }
   ],
   "source": [
    "# checking the value counts and unique values of few columns which has outliers \n",
    "\n",
    "print(df_num['longitude'].value_counts())\n",
    "print(df_num['longitude'].unique())\n",
    "print(df_num['commissioning_year'].value_counts())\n",
    "print(df_num['commissioning_year'].unique())\n",
    "print(df_num['generation_gwh_2013'].value_counts())\n",
    "print(df_num['generation_gwh_2013'].unique())\n",
    "print(df_num['generation_gwh_2014'].value_counts())\n",
    "print(df_num['generation_gwh_2014'].unique())"
   ]
  },
  {
   "cell_type": "code",
   "execution_count": null,
   "id": "397243cb",
   "metadata": {},
   "outputs": [],
   "source": []
  },
  {
   "cell_type": "markdown",
   "id": "db75b80c",
   "metadata": {},
   "source": [
    "# replacing the naan values of the columns with outliers with median \n",
    "\n",
    "\n"
   ]
  },
  {
   "cell_type": "code",
   "execution_count": 25,
   "id": "364b7e5f",
   "metadata": {},
   "outputs": [
    {
     "data": {
      "text/html": [
       "<div>\n",
       "<style scoped>\n",
       "    .dataframe tbody tr th:only-of-type {\n",
       "        vertical-align: middle;\n",
       "    }\n",
       "\n",
       "    .dataframe tbody tr th {\n",
       "        vertical-align: top;\n",
       "    }\n",
       "\n",
       "    .dataframe thead th {\n",
       "        text-align: right;\n",
       "    }\n",
       "</style>\n",
       "<table border=\"1\" class=\"dataframe\">\n",
       "  <thead>\n",
       "    <tr style=\"text-align: right;\">\n",
       "      <th></th>\n",
       "      <th>capacity_mw</th>\n",
       "      <th>latitude</th>\n",
       "      <th>longitude</th>\n",
       "      <th>commissioning_year</th>\n",
       "      <th>year_of_capacity_data</th>\n",
       "      <th>generation_gwh_2013</th>\n",
       "      <th>generation_gwh_2014</th>\n",
       "      <th>generation_gwh_2015</th>\n",
       "      <th>generation_gwh_2016</th>\n",
       "      <th>generation_gwh_2017</th>\n",
       "    </tr>\n",
       "  </thead>\n",
       "  <tbody>\n",
       "    <tr>\n",
       "      <th>0</th>\n",
       "      <td>2.5</td>\n",
       "      <td>28.1839</td>\n",
       "      <td>73.2407</td>\n",
       "      <td>2011.0</td>\n",
       "      <td>NaN</td>\n",
       "      <td>NaN</td>\n",
       "      <td>NaN</td>\n",
       "      <td>NaN</td>\n",
       "      <td>NaN</td>\n",
       "      <td>NaN</td>\n",
       "    </tr>\n",
       "    <tr>\n",
       "      <th>1</th>\n",
       "      <td>98.0</td>\n",
       "      <td>24.7663</td>\n",
       "      <td>74.6090</td>\n",
       "      <td>NaN</td>\n",
       "      <td>NaN</td>\n",
       "      <td>NaN</td>\n",
       "      <td>NaN</td>\n",
       "      <td>NaN</td>\n",
       "      <td>NaN</td>\n",
       "      <td>NaN</td>\n",
       "    </tr>\n",
       "  </tbody>\n",
       "</table>\n",
       "</div>"
      ],
      "text/plain": [
       "   capacity_mw  latitude  longitude  commissioning_year  \\\n",
       "0          2.5   28.1839    73.2407              2011.0   \n",
       "1         98.0   24.7663    74.6090                 NaN   \n",
       "\n",
       "   year_of_capacity_data  generation_gwh_2013  generation_gwh_2014  \\\n",
       "0                    NaN                  NaN                  NaN   \n",
       "1                    NaN                  NaN                  NaN   \n",
       "\n",
       "   generation_gwh_2015  generation_gwh_2016  generation_gwh_2017  \n",
       "0                  NaN                  NaN                  NaN  \n",
       "1                  NaN                  NaN                  NaN  "
      ]
     },
     "execution_count": 25,
     "metadata": {},
     "output_type": "execute_result"
    }
   ],
   "source": [
    "df_num.head(2)"
   ]
  },
  {
   "cell_type": "code",
   "execution_count": 26,
   "id": "f7110ad1",
   "metadata": {},
   "outputs": [],
   "source": [
    "import numpy as np\n",
    "for feature in df_num.columns:\n",
    "    df_num[feature].fillna(df_num[feature].median(),inplace=True,axis=0)"
   ]
  },
  {
   "cell_type": "code",
   "execution_count": 27,
   "id": "f0d31fca",
   "metadata": {},
   "outputs": [
    {
     "data": {
      "text/plain": [
       "capacity_mw              0\n",
       "latitude                 0\n",
       "longitude                0\n",
       "commissioning_year       0\n",
       "year_of_capacity_data    0\n",
       "generation_gwh_2013      0\n",
       "generation_gwh_2014      0\n",
       "generation_gwh_2015      0\n",
       "generation_gwh_2016      0\n",
       "generation_gwh_2017      0\n",
       "dtype: int64"
      ]
     },
     "execution_count": 27,
     "metadata": {},
     "output_type": "execute_result"
    }
   ],
   "source": [
    "df_num.isna().sum()  # NULL VALUES REMOVED "
   ]
  },
  {
   "cell_type": "code",
   "execution_count": 28,
   "id": "1e936b0a",
   "metadata": {},
   "outputs": [
    {
     "data": {
      "text/plain": [
       "<AxesSubplot:xlabel='generation_gwh_2013', ylabel='Density'>"
      ]
     },
     "execution_count": 28,
     "metadata": {},
     "output_type": "execute_result"
    },
    {
     "data": {
      "image/png": "[encoded data removed]",
      "text/plain": [
       "<Figure size 432x288 with 1 Axes>"
      ]
     },
     "metadata": {
      "needs_background": "light"
     },
     "output_type": "display_data"
    }
   ],
   "source": [
    "# checking the graph befor and after \n",
    "\n",
    "\n",
    "sns.kdeplot(data=df_num,x='generation_gwh_2013')\n",
    "sns.kdeplot(data=df,x='generation_gwh_2013')"
   ]
  },
  {
   "cell_type": "code",
   "execution_count": 29,
   "id": "30c5c4d7",
   "metadata": {},
   "outputs": [
    {
     "data": {
      "text/plain": [
       "<AxesSubplot:xlabel='generation_gwh_2014', ylabel='Density'>"
      ]
     },
     "execution_count": 29,
     "metadata": {},
     "output_type": "execute_result"
    },
    {
     "data": {
      "image/png": "[encoded data removed]",
      "text/plain": [
       "<Figure size 432x288 with 1 Axes>"
      ]
     },
     "metadata": {
      "needs_background": "light"
     },
     "output_type": "display_data"
    }
   ],
   "source": [
    "sns.kdeplot(data=df_num,x='generation_gwh_2014')\n",
    "sns.kdeplot(data=df,x='generation_gwh_2014')"
   ]
  },
  {
   "cell_type": "code",
   "execution_count": 30,
   "id": "49662ba0",
   "metadata": {},
   "outputs": [
    {
     "data": {
      "text/plain": [
       "<AxesSubplot:xlabel='generation_gwh_2015', ylabel='Density'>"
      ]
     },
     "execution_count": 30,
     "metadata": {},
     "output_type": "execute_result"
    },
    {
     "data": {
      "image/png": "[encoded data removed]",
      "text/plain": [
       "<Figure size 432x288 with 1 Axes>"
      ]
     },
     "metadata": {
      "needs_background": "light"
     },
     "output_type": "display_data"
    }
   ],
   "source": [
    "sns.kdeplot(data=df_num,x='generation_gwh_2015')\n",
    "sns.kdeplot(data=df,x='generation_gwh_2015')"
   ]
  },
  {
   "cell_type": "markdown",
   "id": "6872f788",
   "metadata": {},
   "source": [
    "# combing the data after cleaning it "
   ]
  },
  {
   "cell_type": "code",
   "execution_count": 31,
   "id": "10c73a5e",
   "metadata": {},
   "outputs": [
    {
     "data": {
      "text/html": [
       "<div>\n",
       "<style scoped>\n",
       "    .dataframe tbody tr th:only-of-type {\n",
       "        vertical-align: middle;\n",
       "    }\n",
       "\n",
       "    .dataframe tbody tr th {\n",
       "        vertical-align: top;\n",
       "    }\n",
       "\n",
       "    .dataframe thead th {\n",
       "        text-align: right;\n",
       "    }\n",
       "</style>\n",
       "<table border=\"1\" class=\"dataframe\">\n",
       "  <thead>\n",
       "    <tr style=\"text-align: right;\">\n",
       "      <th></th>\n",
       "      <th>country</th>\n",
       "      <th>country_long</th>\n",
       "      <th>name</th>\n",
       "      <th>gppd_idnr</th>\n",
       "      <th>primary_fuel</th>\n",
       "      <th>other_fuel1</th>\n",
       "      <th>owner</th>\n",
       "      <th>source</th>\n",
       "      <th>url</th>\n",
       "      <th>geolocation_source</th>\n",
       "      <th>generation_data_source</th>\n",
       "    </tr>\n",
       "  </thead>\n",
       "  <tbody>\n",
       "    <tr>\n",
       "      <th>0</th>\n",
       "      <td>IND</td>\n",
       "      <td>India</td>\n",
       "      <td>ACME Solar Tower</td>\n",
       "      <td>WRI1020239</td>\n",
       "      <td>Solar</td>\n",
       "      <td>Oil</td>\n",
       "      <td>Solar Paces</td>\n",
       "      <td>National Renewable Energy Laboratory</td>\n",
       "      <td>http://www.nrel.gov/csp/solarpaces/project_det...</td>\n",
       "      <td>National Renewable Energy Laboratory</td>\n",
       "      <td>Central Electricity Authority</td>\n",
       "    </tr>\n",
       "    <tr>\n",
       "      <th>1</th>\n",
       "      <td>IND</td>\n",
       "      <td>India</td>\n",
       "      <td>ADITYA CEMENT WORKS</td>\n",
       "      <td>WRI1019881</td>\n",
       "      <td>Coal</td>\n",
       "      <td>Oil</td>\n",
       "      <td>Ultratech Cement ltd</td>\n",
       "      <td>Ultratech Cement ltd</td>\n",
       "      <td>http://www.ultratechcement.com/</td>\n",
       "      <td>WRI</td>\n",
       "      <td>Central Electricity Authority</td>\n",
       "    </tr>\n",
       "  </tbody>\n",
       "</table>\n",
       "</div>"
      ],
      "text/plain": [
       "  country country_long                 name   gppd_idnr primary_fuel  \\\n",
       "0     IND        India     ACME Solar Tower  WRI1020239        Solar   \n",
       "1     IND        India  ADITYA CEMENT WORKS  WRI1019881         Coal   \n",
       "\n",
       "  other_fuel1                 owner                                source  \\\n",
       "0         Oil           Solar Paces  National Renewable Energy Laboratory   \n",
       "1         Oil  Ultratech Cement ltd                  Ultratech Cement ltd   \n",
       "\n",
       "                                                 url  \\\n",
       "0  http://www.nrel.gov/csp/solarpaces/project_det...   \n",
       "1                    http://www.ultratechcement.com/   \n",
       "\n",
       "                     geolocation_source         generation_data_source  \n",
       "0  National Renewable Energy Laboratory  Central Electricity Authority  \n",
       "1                                   WRI  Central Electricity Authority  "
      ]
     },
     "execution_count": 31,
     "metadata": {},
     "output_type": "execute_result"
    }
   ],
   "source": [
    "df_cat.head(2)"
   ]
  },
  {
   "cell_type": "code",
   "execution_count": 32,
   "id": "f11fcfd9",
   "metadata": {},
   "outputs": [
    {
     "data": {
      "text/html": [
       "<div>\n",
       "<style scoped>\n",
       "    .dataframe tbody tr th:only-of-type {\n",
       "        vertical-align: middle;\n",
       "    }\n",
       "\n",
       "    .dataframe tbody tr th {\n",
       "        vertical-align: top;\n",
       "    }\n",
       "\n",
       "    .dataframe thead th {\n",
       "        text-align: right;\n",
       "    }\n",
       "</style>\n",
       "<table border=\"1\" class=\"dataframe\">\n",
       "  <thead>\n",
       "    <tr style=\"text-align: right;\">\n",
       "      <th></th>\n",
       "      <th>country</th>\n",
       "      <th>country_long</th>\n",
       "      <th>name</th>\n",
       "      <th>gppd_idnr</th>\n",
       "      <th>primary_fuel</th>\n",
       "      <th>other_fuel1</th>\n",
       "      <th>owner</th>\n",
       "      <th>source</th>\n",
       "      <th>url</th>\n",
       "      <th>geolocation_source</th>\n",
       "      <th>generation_data_source</th>\n",
       "    </tr>\n",
       "  </thead>\n",
       "  <tbody>\n",
       "    <tr>\n",
       "      <th>0</th>\n",
       "      <td>0</td>\n",
       "      <td>0</td>\n",
       "      <td>0</td>\n",
       "      <td>658</td>\n",
       "      <td>6</td>\n",
       "      <td>2</td>\n",
       "      <td>229</td>\n",
       "      <td>109</td>\n",
       "      <td>128</td>\n",
       "      <td>1</td>\n",
       "      <td>0</td>\n",
       "    </tr>\n",
       "    <tr>\n",
       "      <th>1</th>\n",
       "      <td>0</td>\n",
       "      <td>0</td>\n",
       "      <td>1</td>\n",
       "      <td>520</td>\n",
       "      <td>1</td>\n",
       "      <td>2</td>\n",
       "      <td>258</td>\n",
       "      <td>174</td>\n",
       "      <td>173</td>\n",
       "      <td>2</td>\n",
       "      <td>0</td>\n",
       "    </tr>\n",
       "    <tr>\n",
       "      <th>2</th>\n",
       "      <td>0</td>\n",
       "      <td>0</td>\n",
       "      <td>2</td>\n",
       "      <td>854</td>\n",
       "      <td>7</td>\n",
       "      <td>2</td>\n",
       "      <td>2</td>\n",
       "      <td>21</td>\n",
       "      <td>205</td>\n",
       "      <td>2</td>\n",
       "      <td>0</td>\n",
       "    </tr>\n",
       "    <tr>\n",
       "      <th>3</th>\n",
       "      <td>0</td>\n",
       "      <td>0</td>\n",
       "      <td>3</td>\n",
       "      <td>0</td>\n",
       "      <td>2</td>\n",
       "      <td>2</td>\n",
       "      <td>5</td>\n",
       "      <td>22</td>\n",
       "      <td>58</td>\n",
       "      <td>2</td>\n",
       "      <td>0</td>\n",
       "    </tr>\n",
       "    <tr>\n",
       "      <th>4</th>\n",
       "      <td>0</td>\n",
       "      <td>0</td>\n",
       "      <td>4</td>\n",
       "      <td>1</td>\n",
       "      <td>1</td>\n",
       "      <td>2</td>\n",
       "      <td>5</td>\n",
       "      <td>22</td>\n",
       "      <td>58</td>\n",
       "      <td>2</td>\n",
       "      <td>0</td>\n",
       "    </tr>\n",
       "  </tbody>\n",
       "</table>\n",
       "</div>"
      ],
      "text/plain": [
       "   country  country_long  name  gppd_idnr  primary_fuel  other_fuel1  owner  \\\n",
       "0        0             0     0        658             6            2    229   \n",
       "1        0             0     1        520             1            2    258   \n",
       "2        0             0     2        854             7            2      2   \n",
       "3        0             0     3          0             2            2      5   \n",
       "4        0             0     4          1             1            2      5   \n",
       "\n",
       "   source  url  geolocation_source  generation_data_source  \n",
       "0     109  128                   1                       0  \n",
       "1     174  173                   2                       0  \n",
       "2      21  205                   2                       0  \n",
       "3      22   58                   2                       0  \n",
       "4      22   58                   2                       0  "
      ]
     },
     "execution_count": 32,
     "metadata": {},
     "output_type": "execute_result"
    }
   ],
   "source": [
    "\n",
    "# APPLYING LABEL ENCODER TO CHANGE CATEGORICAL DATA INTO NUMERIC SO WE CAN APPLY ALGORITHMS\n",
    "\n",
    "\n",
    "\n",
    "from sklearn.preprocessing import LabelEncoder\n",
    "\n",
    "le = LabelEncoder()\n",
    "\n",
    "cols = df_cat.columns\n",
    "\n",
    "\n",
    "df_cat[cols] = df_cat[cols].apply(LabelEncoder().fit_transform)\n",
    "\n",
    "\n",
    "\n",
    "df_cat.head()"
   ]
  },
  {
   "cell_type": "code",
   "execution_count": 33,
   "id": "bbaa7598",
   "metadata": {},
   "outputs": [
    {
     "data": {
      "text/plain": [
       "(908, 11)"
      ]
     },
     "execution_count": 33,
     "metadata": {},
     "output_type": "execute_result"
    }
   ],
   "source": [
    "df_cat.shape"
   ]
  },
  {
   "cell_type": "code",
   "execution_count": 34,
   "id": "d455cf31",
   "metadata": {},
   "outputs": [
    {
     "data": {
      "text/html": [
       "<div>\n",
       "<style scoped>\n",
       "    .dataframe tbody tr th:only-of-type {\n",
       "        vertical-align: middle;\n",
       "    }\n",
       "\n",
       "    .dataframe tbody tr th {\n",
       "        vertical-align: top;\n",
       "    }\n",
       "\n",
       "    .dataframe thead th {\n",
       "        text-align: right;\n",
       "    }\n",
       "</style>\n",
       "<table border=\"1\" class=\"dataframe\">\n",
       "  <thead>\n",
       "    <tr style=\"text-align: right;\">\n",
       "      <th></th>\n",
       "      <th>capacity_mw</th>\n",
       "      <th>latitude</th>\n",
       "      <th>longitude</th>\n",
       "      <th>commissioning_year</th>\n",
       "      <th>year_of_capacity_data</th>\n",
       "      <th>generation_gwh_2013</th>\n",
       "      <th>generation_gwh_2014</th>\n",
       "      <th>generation_gwh_2015</th>\n",
       "      <th>generation_gwh_2016</th>\n",
       "      <th>generation_gwh_2017</th>\n",
       "    </tr>\n",
       "  </thead>\n",
       "  <tbody>\n",
       "    <tr>\n",
       "      <th>0</th>\n",
       "      <td>2.5</td>\n",
       "      <td>28.1839</td>\n",
       "      <td>73.2407</td>\n",
       "      <td>2011.0</td>\n",
       "      <td>2018.0</td>\n",
       "      <td>797.063475</td>\n",
       "      <td>805.76</td>\n",
       "      <td>701.02725</td>\n",
       "      <td>716.72835</td>\n",
       "      <td>807.6017</td>\n",
       "    </tr>\n",
       "    <tr>\n",
       "      <th>1</th>\n",
       "      <td>98.0</td>\n",
       "      <td>24.7663</td>\n",
       "      <td>74.6090</td>\n",
       "      <td>2000.0</td>\n",
       "      <td>2018.0</td>\n",
       "      <td>797.063475</td>\n",
       "      <td>805.76</td>\n",
       "      <td>701.02725</td>\n",
       "      <td>716.72835</td>\n",
       "      <td>807.6017</td>\n",
       "    </tr>\n",
       "  </tbody>\n",
       "</table>\n",
       "</div>"
      ],
      "text/plain": [
       "   capacity_mw  latitude  longitude  commissioning_year  \\\n",
       "0          2.5   28.1839    73.2407              2011.0   \n",
       "1         98.0   24.7663    74.6090              2000.0   \n",
       "\n",
       "   year_of_capacity_data  generation_gwh_2013  generation_gwh_2014  \\\n",
       "0                 2018.0           797.063475               805.76   \n",
       "1                 2018.0           797.063475               805.76   \n",
       "\n",
       "   generation_gwh_2015  generation_gwh_2016  generation_gwh_2017  \n",
       "0            701.02725            716.72835             807.6017  \n",
       "1            701.02725            716.72835             807.6017  "
      ]
     },
     "execution_count": 34,
     "metadata": {},
     "output_type": "execute_result"
    }
   ],
   "source": [
    "df_num.head(2)"
   ]
  },
  {
   "cell_type": "code",
   "execution_count": 35,
   "id": "19fec6e1",
   "metadata": {},
   "outputs": [
    {
     "data": {
      "text/plain": [
       "(908, 10)"
      ]
     },
     "execution_count": 35,
     "metadata": {},
     "output_type": "execute_result"
    }
   ],
   "source": [
    "df_num.shape"
   ]
  },
  {
   "cell_type": "code",
   "execution_count": 37,
   "id": "af81794e",
   "metadata": {},
   "outputs": [],
   "source": [
    "# COMBINED DATA AFTER CLEANING THEM \n",
    "\n",
    "\n",
    "\n",
    "df_new=pd.concat([df_cat,df_num],axis=1)"
   ]
  },
  {
   "cell_type": "code",
   "execution_count": null,
   "id": "7ece32b9",
   "metadata": {},
   "outputs": [],
   "source": []
  },
  {
   "cell_type": "code",
   "execution_count": 38,
   "id": "228e4004",
   "metadata": {},
   "outputs": [
    {
     "data": {
      "text/html": [
       "<div>\n",
       "<style scoped>\n",
       "    .dataframe tbody tr th:only-of-type {\n",
       "        vertical-align: middle;\n",
       "    }\n",
       "\n",
       "    .dataframe tbody tr th {\n",
       "        vertical-align: top;\n",
       "    }\n",
       "\n",
       "    .dataframe thead th {\n",
       "        text-align: right;\n",
       "    }\n",
       "</style>\n",
       "<table border=\"1\" class=\"dataframe\">\n",
       "  <thead>\n",
       "    <tr style=\"text-align: right;\">\n",
       "      <th></th>\n",
       "      <th>country</th>\n",
       "      <th>country_long</th>\n",
       "      <th>name</th>\n",
       "      <th>gppd_idnr</th>\n",
       "      <th>primary_fuel</th>\n",
       "      <th>other_fuel1</th>\n",
       "      <th>owner</th>\n",
       "      <th>source</th>\n",
       "      <th>url</th>\n",
       "      <th>geolocation_source</th>\n",
       "      <th>...</th>\n",
       "      <th>capacity_mw</th>\n",
       "      <th>latitude</th>\n",
       "      <th>longitude</th>\n",
       "      <th>commissioning_year</th>\n",
       "      <th>year_of_capacity_data</th>\n",
       "      <th>generation_gwh_2013</th>\n",
       "      <th>generation_gwh_2014</th>\n",
       "      <th>generation_gwh_2015</th>\n",
       "      <th>generation_gwh_2016</th>\n",
       "      <th>generation_gwh_2017</th>\n",
       "    </tr>\n",
       "  </thead>\n",
       "  <tbody>\n",
       "    <tr>\n",
       "      <th>0</th>\n",
       "      <td>0</td>\n",
       "      <td>0</td>\n",
       "      <td>0</td>\n",
       "      <td>658</td>\n",
       "      <td>6</td>\n",
       "      <td>2</td>\n",
       "      <td>229</td>\n",
       "      <td>109</td>\n",
       "      <td>128</td>\n",
       "      <td>1</td>\n",
       "      <td>...</td>\n",
       "      <td>2.5</td>\n",
       "      <td>28.1839</td>\n",
       "      <td>73.2407</td>\n",
       "      <td>2011.0</td>\n",
       "      <td>2018.0</td>\n",
       "      <td>797.063475</td>\n",
       "      <td>805.760000</td>\n",
       "      <td>701.02725</td>\n",
       "      <td>716.728350</td>\n",
       "      <td>807.601700</td>\n",
       "    </tr>\n",
       "    <tr>\n",
       "      <th>1</th>\n",
       "      <td>0</td>\n",
       "      <td>0</td>\n",
       "      <td>1</td>\n",
       "      <td>520</td>\n",
       "      <td>1</td>\n",
       "      <td>2</td>\n",
       "      <td>258</td>\n",
       "      <td>174</td>\n",
       "      <td>173</td>\n",
       "      <td>2</td>\n",
       "      <td>...</td>\n",
       "      <td>98.0</td>\n",
       "      <td>24.7663</td>\n",
       "      <td>74.6090</td>\n",
       "      <td>2000.0</td>\n",
       "      <td>2018.0</td>\n",
       "      <td>797.063475</td>\n",
       "      <td>805.760000</td>\n",
       "      <td>701.02725</td>\n",
       "      <td>716.728350</td>\n",
       "      <td>807.601700</td>\n",
       "    </tr>\n",
       "    <tr>\n",
       "      <th>2</th>\n",
       "      <td>0</td>\n",
       "      <td>0</td>\n",
       "      <td>2</td>\n",
       "      <td>854</td>\n",
       "      <td>7</td>\n",
       "      <td>2</td>\n",
       "      <td>2</td>\n",
       "      <td>21</td>\n",
       "      <td>205</td>\n",
       "      <td>2</td>\n",
       "      <td>...</td>\n",
       "      <td>39.2</td>\n",
       "      <td>21.9038</td>\n",
       "      <td>69.3732</td>\n",
       "      <td>2000.0</td>\n",
       "      <td>2018.0</td>\n",
       "      <td>797.063475</td>\n",
       "      <td>805.760000</td>\n",
       "      <td>701.02725</td>\n",
       "      <td>716.728350</td>\n",
       "      <td>807.601700</td>\n",
       "    </tr>\n",
       "    <tr>\n",
       "      <th>3</th>\n",
       "      <td>0</td>\n",
       "      <td>0</td>\n",
       "      <td>3</td>\n",
       "      <td>0</td>\n",
       "      <td>2</td>\n",
       "      <td>2</td>\n",
       "      <td>5</td>\n",
       "      <td>22</td>\n",
       "      <td>58</td>\n",
       "      <td>2</td>\n",
       "      <td>...</td>\n",
       "      <td>135.0</td>\n",
       "      <td>23.8712</td>\n",
       "      <td>91.3602</td>\n",
       "      <td>2004.0</td>\n",
       "      <td>2018.0</td>\n",
       "      <td>631.777928</td>\n",
       "      <td>617.789264</td>\n",
       "      <td>843.74700</td>\n",
       "      <td>886.004428</td>\n",
       "      <td>663.774500</td>\n",
       "    </tr>\n",
       "    <tr>\n",
       "      <th>4</th>\n",
       "      <td>0</td>\n",
       "      <td>0</td>\n",
       "      <td>4</td>\n",
       "      <td>1</td>\n",
       "      <td>1</td>\n",
       "      <td>2</td>\n",
       "      <td>5</td>\n",
       "      <td>22</td>\n",
       "      <td>58</td>\n",
       "      <td>2</td>\n",
       "      <td>...</td>\n",
       "      <td>1800.0</td>\n",
       "      <td>21.9603</td>\n",
       "      <td>82.4091</td>\n",
       "      <td>2015.0</td>\n",
       "      <td>2018.0</td>\n",
       "      <td>1668.290000</td>\n",
       "      <td>3035.550000</td>\n",
       "      <td>5916.37000</td>\n",
       "      <td>6243.000000</td>\n",
       "      <td>5385.579736</td>\n",
       "    </tr>\n",
       "  </tbody>\n",
       "</table>\n",
       "<p>5 rows × 21 columns</p>\n",
       "</div>"
      ],
      "text/plain": [
       "   country  country_long  name  gppd_idnr  primary_fuel  other_fuel1  owner  \\\n",
       "0        0             0     0        658             6            2    229   \n",
       "1        0             0     1        520             1            2    258   \n",
       "2        0             0     2        854             7            2      2   \n",
       "3        0             0     3          0             2            2      5   \n",
       "4        0             0     4          1             1            2      5   \n",
       "\n",
       "   source  url  geolocation_source  ...  capacity_mw  latitude  longitude  \\\n",
       "0     109  128                   1  ...          2.5   28.1839    73.2407   \n",
       "1     174  173                   2  ...         98.0   24.7663    74.6090   \n",
       "2      21  205                   2  ...         39.2   21.9038    69.3732   \n",
       "3      22   58                   2  ...        135.0   23.8712    91.3602   \n",
       "4      22   58                   2  ...       1800.0   21.9603    82.4091   \n",
       "\n",
       "   commissioning_year  year_of_capacity_data  generation_gwh_2013  \\\n",
       "0              2011.0                 2018.0           797.063475   \n",
       "1              2000.0                 2018.0           797.063475   \n",
       "2              2000.0                 2018.0           797.063475   \n",
       "3              2004.0                 2018.0           631.777928   \n",
       "4              2015.0                 2018.0          1668.290000   \n",
       "\n",
       "   generation_gwh_2014  generation_gwh_2015  generation_gwh_2016  \\\n",
       "0           805.760000            701.02725           716.728350   \n",
       "1           805.760000            701.02725           716.728350   \n",
       "2           805.760000            701.02725           716.728350   \n",
       "3           617.789264            843.74700           886.004428   \n",
       "4          3035.550000           5916.37000          6243.000000   \n",
       "\n",
       "   generation_gwh_2017  \n",
       "0           807.601700  \n",
       "1           807.601700  \n",
       "2           807.601700  \n",
       "3           663.774500  \n",
       "4          5385.579736  \n",
       "\n",
       "[5 rows x 21 columns]"
      ]
     },
     "execution_count": 38,
     "metadata": {},
     "output_type": "execute_result"
    }
   ],
   "source": [
    "df_new.head()"
   ]
  },
  {
   "cell_type": "code",
   "execution_count": 39,
   "id": "da40b901",
   "metadata": {},
   "outputs": [
    {
     "data": {
      "text/plain": [
       "country                   0\n",
       "country_long              0\n",
       "name                      0\n",
       "gppd_idnr                 0\n",
       "primary_fuel              0\n",
       "other_fuel1               0\n",
       "owner                     0\n",
       "source                    0\n",
       "url                       0\n",
       "geolocation_source        0\n",
       "generation_data_source    0\n",
       "capacity_mw               0\n",
       "latitude                  0\n",
       "longitude                 0\n",
       "commissioning_year        0\n",
       "year_of_capacity_data     0\n",
       "generation_gwh_2013       0\n",
       "generation_gwh_2014       0\n",
       "generation_gwh_2015       0\n",
       "generation_gwh_2016       0\n",
       "generation_gwh_2017       0\n",
       "dtype: int64"
      ]
     },
     "execution_count": 39,
     "metadata": {},
     "output_type": "execute_result"
    }
   ],
   "source": [
    "df_new.isnull().sum()"
   ]
  },
  {
   "cell_type": "markdown",
   "id": "6d621a5a",
   "metadata": {},
   "source": [
    "# *classification problem "
   ]
  },
  {
   "cell_type": "code",
   "execution_count": 40,
   "id": "687ac8a0",
   "metadata": {},
   "outputs": [],
   "source": [
    "x=df_new.drop('primary_fuel',axis=1)   # DIVIDING THE DATA FOR TRAIN AND TEST \n",
    "y=df_new['primary_fuel']"
   ]
  },
  {
   "cell_type": "code",
   "execution_count": 41,
   "id": "e5933c14",
   "metadata": {},
   "outputs": [
    {
     "name": "stdout",
     "output_type": "stream",
     "text": [
      "(908, 20)\n",
      "(908,)\n"
     ]
    }
   ],
   "source": [
    "print(x.shape)\n",
    "print(y.shape)"
   ]
  },
  {
   "cell_type": "code",
   "execution_count": 42,
   "id": "db1d7baa",
   "metadata": {},
   "outputs": [],
   "source": [
    "from sklearn.model_selection import train_test_split"
   ]
  },
  {
   "cell_type": "code",
   "execution_count": 66,
   "id": "afd7cac1",
   "metadata": {},
   "outputs": [],
   "source": [
    "x_train,x_test,y_train,y_test=train_test_split(x,y,test_size=.20,random_state=42)"
   ]
  },
  {
   "cell_type": "code",
   "execution_count": 67,
   "id": "1de8a5b5",
   "metadata": {},
   "outputs": [
    {
     "name": "stdout",
     "output_type": "stream",
     "text": [
      "(726, 20)\n",
      "(726,)\n",
      "(182, 20)\n",
      "(182,)\n"
     ]
    }
   ],
   "source": [
    "print(x_train.shape)\n",
    "print(y_train.shape)\n",
    "print(x_test.shape)\n",
    "print(y_test.shape)"
   ]
  },
  {
   "cell_type": "code",
   "execution_count": 68,
   "id": "a13a13b1",
   "metadata": {},
   "outputs": [],
   "source": [
    "# applying standard scaler to make the data balance as it has values in diffrent units \n",
    "\n",
    "\n",
    "from sklearn.preprocessing import StandardScaler\n",
    "\n",
    "sc=StandardScaler()\n",
    "sc.fit(x_train,x_test)\n",
    "x_train=sc.transform(x_train)\n",
    "x_test=sc.transform(x_test)"
   ]
  },
  {
   "cell_type": "code",
   "execution_count": 69,
   "id": "e39ef4b7",
   "metadata": {},
   "outputs": [],
   "source": [
    "from sklearn.tree import DecisionTreeClassifier\n",
    "from sklearn.ensemble import RandomForestClassifier\n",
    "from sklearn.metrics import accuracy_score,confusion_matrix\n",
    "from sklearn.model_selection import cross_val_score"
   ]
  },
  {
   "cell_type": "code",
   "execution_count": 70,
   "id": "133dbcf3",
   "metadata": {},
   "outputs": [],
   "source": [
    "dtc=DecisionTreeClassifier() # APPLYING DECISION TREE  AND CROSS VALIDATION AFTER THAT IN EVERY ALGORITHEM "
   ]
  },
  {
   "cell_type": "code",
   "execution_count": 71,
   "id": "c02455a0",
   "metadata": {},
   "outputs": [
    {
     "name": "stdout",
     "output_type": "stream",
     "text": [
      "0.8021978021978022\n",
      "[[ 6  0  0  0  0  0  0]\n",
      " [ 2 43  3  5  2  0  0]\n",
      " [ 1  3 10  6  1  0  0]\n",
      " [ 0  5  2 47  1  0  0]\n",
      " [ 0  1  3  0  1  0  0]\n",
      " [ 0  0  1  0  0 17  0]\n",
      " [ 0  0  0  0  0  0 22]]\n"
     ]
    }
   ],
   "source": [
    "dtc.fit(x_train,y_train)\n",
    "pdtc=dtc.predict(x_test)\n",
    "print(accuracy_score(y_test,pdtc))\n",
    "print(confusion_matrix(y_test,pdtc))"
   ]
  },
  {
   "cell_type": "code",
   "execution_count": 72,
   "id": "6afe7ec0",
   "metadata": {},
   "outputs": [
    {
     "name": "stdout",
     "output_type": "stream",
     "text": [
      "[0.66483516 0.7967033  0.84065934 0.7679558  0.7679558 ]\n",
      "0.7676218808815494\n",
      "0.05787146322328676\n"
     ]
    }
   ],
   "source": [
    "score=cross_val_score(dtc,x,y,cv=5)\n",
    "print(score)\n",
    "print(score.mean())\n",
    "print(score.std())"
   ]
  },
  {
   "cell_type": "code",
   "execution_count": 73,
   "id": "35dc9cb6",
   "metadata": {},
   "outputs": [],
   "source": [
    "rfc=RandomForestClassifier()"
   ]
  },
  {
   "cell_type": "code",
   "execution_count": 74,
   "id": "2844e664",
   "metadata": {},
   "outputs": [
    {
     "name": "stdout",
     "output_type": "stream",
     "text": [
      "0.8406593406593407\n",
      "[[ 6  0  0  0  0  0  0]\n",
      " [ 0 51  1  2  1  0  0]\n",
      " [ 2  7  5  6  1  0  0]\n",
      " [ 0  5  0 50  0  0  0]\n",
      " [ 0  2  2  0  1  0  0]\n",
      " [ 0  0  0  0  0 18  0]\n",
      " [ 0  0  0  0  0  0 22]]\n"
     ]
    }
   ],
   "source": [
    "rfc.fit(x_train,y_train)\n",
    "prfc=rfc.predict(x_test)\n",
    "print(accuracy_score(y_test,prfc))\n",
    "print(confusion_matrix(y_test,prfc))"
   ]
  },
  {
   "cell_type": "code",
   "execution_count": 75,
   "id": "2b884fcd",
   "metadata": {},
   "outputs": [
    {
     "name": "stdout",
     "output_type": "stream",
     "text": [
      "[0.83516484 0.83516484 0.87362637 0.83425414 0.86187845]\n",
      "0.8480177281282254\n",
      "0.016539361487903893\n"
     ]
    }
   ],
   "source": [
    "score=cross_val_score(rfc,x,y,cv=5)\n",
    "print(score)\n",
    "print(score.mean())\n",
    "print(score.std())"
   ]
  },
  {
   "cell_type": "code",
   "execution_count": 76,
   "id": "997f1b36",
   "metadata": {},
   "outputs": [
    {
     "name": "stdout",
     "output_type": "stream",
     "text": [
      "0.7747252747252747\n",
      "[[ 6  0  0  0  0  0  0  0]\n",
      " [ 7 42  1  5  0  0  0  0]\n",
      " [ 4  4  4  9  0  0  0  0]\n",
      " [ 0  3  1 50  1  0  0  0]\n",
      " [ 0  0  0  0  0  0  0  0]\n",
      " [ 2  1  0  2  0  0  0  0]\n",
      " [ 0  1  0  0  0  0 17  0]\n",
      " [ 0  0  0  0  0  0  0 22]]\n"
     ]
    }
   ],
   "source": [
    "from sklearn.neighbors import KNeighborsClassifier\n",
    "knn = KNeighborsClassifier()\n",
    "knn.fit(x_train,y_train)\n",
    "pknn=knn.predict(x_test)\n",
    "print(accuracy_score(y_test,pknn))\n",
    "print(confusion_matrix(y_test,pknn))"
   ]
  },
  {
   "cell_type": "code",
   "execution_count": 77,
   "id": "81c55d68",
   "metadata": {},
   "outputs": [
    {
     "name": "stdout",
     "output_type": "stream",
     "text": [
      "[0.7032967  0.65934066 0.70879121 0.7679558  0.67955801]\n",
      "0.7037884767166536\n",
      "0.036620864611278885\n"
     ]
    }
   ],
   "source": [
    "score=cross_val_score(knn,x,y,cv=5)\n",
    "print(score)\n",
    "print(score.mean())\n",
    "print(score.std())"
   ]
  },
  {
   "cell_type": "code",
   "execution_count": 78,
   "id": "3552a758",
   "metadata": {},
   "outputs": [],
   "source": [
    "# best model is random forest with the mean crossvalidation score of 84%"
   ]
  },
  {
   "cell_type": "code",
   "execution_count": null,
   "id": "2a9a7c81",
   "metadata": {},
   "outputs": [],
   "source": []
  },
  {
   "cell_type": "code",
   "execution_count": 100,
   "id": "e8635adc",
   "metadata": {},
   "outputs": [],
   "source": [
    "# saving the best model\n",
    "\n",
    "\n",
    "import  pickle as pk\n",
    "file=open('global_powerplant.pkl','wb')\n",
    "pk.dump(prfc,file)"
   ]
  },
  {
   "cell_type": "markdown",
   "id": "ecb76918",
   "metadata": {},
   "source": [
    "# * REGRESSION PROBLEM "
   ]
  },
  {
   "cell_type": "code",
   "execution_count": 79,
   "id": "b01afce3",
   "metadata": {},
   "outputs": [
    {
     "data": {
      "text/html": [
       "<div>\n",
       "<style scoped>\n",
       "    .dataframe tbody tr th:only-of-type {\n",
       "        vertical-align: middle;\n",
       "    }\n",
       "\n",
       "    .dataframe tbody tr th {\n",
       "        vertical-align: top;\n",
       "    }\n",
       "\n",
       "    .dataframe thead th {\n",
       "        text-align: right;\n",
       "    }\n",
       "</style>\n",
       "<table border=\"1\" class=\"dataframe\">\n",
       "  <thead>\n",
       "    <tr style=\"text-align: right;\">\n",
       "      <th></th>\n",
       "      <th>country</th>\n",
       "      <th>country_long</th>\n",
       "      <th>name</th>\n",
       "      <th>gppd_idnr</th>\n",
       "      <th>primary_fuel</th>\n",
       "      <th>other_fuel1</th>\n",
       "      <th>owner</th>\n",
       "      <th>source</th>\n",
       "      <th>url</th>\n",
       "      <th>geolocation_source</th>\n",
       "      <th>...</th>\n",
       "      <th>capacity_mw</th>\n",
       "      <th>latitude</th>\n",
       "      <th>longitude</th>\n",
       "      <th>commissioning_year</th>\n",
       "      <th>year_of_capacity_data</th>\n",
       "      <th>generation_gwh_2013</th>\n",
       "      <th>generation_gwh_2014</th>\n",
       "      <th>generation_gwh_2015</th>\n",
       "      <th>generation_gwh_2016</th>\n",
       "      <th>generation_gwh_2017</th>\n",
       "    </tr>\n",
       "  </thead>\n",
       "  <tbody>\n",
       "    <tr>\n",
       "      <th>0</th>\n",
       "      <td>0</td>\n",
       "      <td>0</td>\n",
       "      <td>0</td>\n",
       "      <td>658</td>\n",
       "      <td>6</td>\n",
       "      <td>2</td>\n",
       "      <td>229</td>\n",
       "      <td>109</td>\n",
       "      <td>128</td>\n",
       "      <td>1</td>\n",
       "      <td>...</td>\n",
       "      <td>2.5</td>\n",
       "      <td>28.1839</td>\n",
       "      <td>73.2407</td>\n",
       "      <td>2011.0</td>\n",
       "      <td>2018.0</td>\n",
       "      <td>797.063475</td>\n",
       "      <td>805.760000</td>\n",
       "      <td>701.02725</td>\n",
       "      <td>716.728350</td>\n",
       "      <td>807.601700</td>\n",
       "    </tr>\n",
       "    <tr>\n",
       "      <th>1</th>\n",
       "      <td>0</td>\n",
       "      <td>0</td>\n",
       "      <td>1</td>\n",
       "      <td>520</td>\n",
       "      <td>1</td>\n",
       "      <td>2</td>\n",
       "      <td>258</td>\n",
       "      <td>174</td>\n",
       "      <td>173</td>\n",
       "      <td>2</td>\n",
       "      <td>...</td>\n",
       "      <td>98.0</td>\n",
       "      <td>24.7663</td>\n",
       "      <td>74.6090</td>\n",
       "      <td>2000.0</td>\n",
       "      <td>2018.0</td>\n",
       "      <td>797.063475</td>\n",
       "      <td>805.760000</td>\n",
       "      <td>701.02725</td>\n",
       "      <td>716.728350</td>\n",
       "      <td>807.601700</td>\n",
       "    </tr>\n",
       "    <tr>\n",
       "      <th>2</th>\n",
       "      <td>0</td>\n",
       "      <td>0</td>\n",
       "      <td>2</td>\n",
       "      <td>854</td>\n",
       "      <td>7</td>\n",
       "      <td>2</td>\n",
       "      <td>2</td>\n",
       "      <td>21</td>\n",
       "      <td>205</td>\n",
       "      <td>2</td>\n",
       "      <td>...</td>\n",
       "      <td>39.2</td>\n",
       "      <td>21.9038</td>\n",
       "      <td>69.3732</td>\n",
       "      <td>2000.0</td>\n",
       "      <td>2018.0</td>\n",
       "      <td>797.063475</td>\n",
       "      <td>805.760000</td>\n",
       "      <td>701.02725</td>\n",
       "      <td>716.728350</td>\n",
       "      <td>807.601700</td>\n",
       "    </tr>\n",
       "    <tr>\n",
       "      <th>3</th>\n",
       "      <td>0</td>\n",
       "      <td>0</td>\n",
       "      <td>3</td>\n",
       "      <td>0</td>\n",
       "      <td>2</td>\n",
       "      <td>2</td>\n",
       "      <td>5</td>\n",
       "      <td>22</td>\n",
       "      <td>58</td>\n",
       "      <td>2</td>\n",
       "      <td>...</td>\n",
       "      <td>135.0</td>\n",
       "      <td>23.8712</td>\n",
       "      <td>91.3602</td>\n",
       "      <td>2004.0</td>\n",
       "      <td>2018.0</td>\n",
       "      <td>631.777928</td>\n",
       "      <td>617.789264</td>\n",
       "      <td>843.74700</td>\n",
       "      <td>886.004428</td>\n",
       "      <td>663.774500</td>\n",
       "    </tr>\n",
       "    <tr>\n",
       "      <th>4</th>\n",
       "      <td>0</td>\n",
       "      <td>0</td>\n",
       "      <td>4</td>\n",
       "      <td>1</td>\n",
       "      <td>1</td>\n",
       "      <td>2</td>\n",
       "      <td>5</td>\n",
       "      <td>22</td>\n",
       "      <td>58</td>\n",
       "      <td>2</td>\n",
       "      <td>...</td>\n",
       "      <td>1800.0</td>\n",
       "      <td>21.9603</td>\n",
       "      <td>82.4091</td>\n",
       "      <td>2015.0</td>\n",
       "      <td>2018.0</td>\n",
       "      <td>1668.290000</td>\n",
       "      <td>3035.550000</td>\n",
       "      <td>5916.37000</td>\n",
       "      <td>6243.000000</td>\n",
       "      <td>5385.579736</td>\n",
       "    </tr>\n",
       "  </tbody>\n",
       "</table>\n",
       "<p>5 rows × 21 columns</p>\n",
       "</div>"
      ],
      "text/plain": [
       "   country  country_long  name  gppd_idnr  primary_fuel  other_fuel1  owner  \\\n",
       "0        0             0     0        658             6            2    229   \n",
       "1        0             0     1        520             1            2    258   \n",
       "2        0             0     2        854             7            2      2   \n",
       "3        0             0     3          0             2            2      5   \n",
       "4        0             0     4          1             1            2      5   \n",
       "\n",
       "   source  url  geolocation_source  ...  capacity_mw  latitude  longitude  \\\n",
       "0     109  128                   1  ...          2.5   28.1839    73.2407   \n",
       "1     174  173                   2  ...         98.0   24.7663    74.6090   \n",
       "2      21  205                   2  ...         39.2   21.9038    69.3732   \n",
       "3      22   58                   2  ...        135.0   23.8712    91.3602   \n",
       "4      22   58                   2  ...       1800.0   21.9603    82.4091   \n",
       "\n",
       "   commissioning_year  year_of_capacity_data  generation_gwh_2013  \\\n",
       "0              2011.0                 2018.0           797.063475   \n",
       "1              2000.0                 2018.0           797.063475   \n",
       "2              2000.0                 2018.0           797.063475   \n",
       "3              2004.0                 2018.0           631.777928   \n",
       "4              2015.0                 2018.0          1668.290000   \n",
       "\n",
       "   generation_gwh_2014  generation_gwh_2015  generation_gwh_2016  \\\n",
       "0           805.760000            701.02725           716.728350   \n",
       "1           805.760000            701.02725           716.728350   \n",
       "2           805.760000            701.02725           716.728350   \n",
       "3           617.789264            843.74700           886.004428   \n",
       "4          3035.550000           5916.37000          6243.000000   \n",
       "\n",
       "   generation_gwh_2017  \n",
       "0           807.601700  \n",
       "1           807.601700  \n",
       "2           807.601700  \n",
       "3           663.774500  \n",
       "4          5385.579736  \n",
       "\n",
       "[5 rows x 21 columns]"
      ]
     },
     "execution_count": 79,
     "metadata": {},
     "output_type": "execute_result"
    }
   ],
   "source": [
    "df_new.head()"
   ]
  },
  {
   "cell_type": "code",
   "execution_count": 80,
   "id": "012c756b",
   "metadata": {},
   "outputs": [],
   "source": [
    "y=df_new['capacity_mw']\n",
    "x=df_new.drop('capacity_mw',axis=1)   # dividing the data keeping capacity_mw as target variable "
   ]
  },
  {
   "cell_type": "code",
   "execution_count": 81,
   "id": "d06869f6",
   "metadata": {},
   "outputs": [
    {
     "data": {
      "text/plain": [
       "(908, 20)"
      ]
     },
     "execution_count": 81,
     "metadata": {},
     "output_type": "execute_result"
    }
   ],
   "source": [
    "x.shape"
   ]
  },
  {
   "cell_type": "code",
   "execution_count": 82,
   "id": "2e5fdae5",
   "metadata": {},
   "outputs": [
    {
     "data": {
      "text/plain": [
       "(908,)"
      ]
     },
     "execution_count": 82,
     "metadata": {},
     "output_type": "execute_result"
    }
   ],
   "source": [
    "y.shape"
   ]
  },
  {
   "cell_type": "code",
   "execution_count": 83,
   "id": "c438e794",
   "metadata": {},
   "outputs": [],
   "source": [
    "x_train,x_test,y_train,y_test=train_test_split(x,y,test_size=.20,random_state=40)"
   ]
  },
  {
   "cell_type": "code",
   "execution_count": 84,
   "id": "1586d470",
   "metadata": {},
   "outputs": [
    {
     "name": "stdout",
     "output_type": "stream",
     "text": [
      "(726, 20)\n",
      "(726,)\n",
      "(182, 20)\n",
      "(182,)\n"
     ]
    }
   ],
   "source": [
    "print(x_train.shape)\n",
    "print(y_train.shape)\n",
    "print(x_test.shape)\n",
    "print(y_test.shape)"
   ]
  },
  {
   "cell_type": "code",
   "execution_count": 85,
   "id": "4478ab09",
   "metadata": {},
   "outputs": [],
   "source": [
    "sc=StandardScaler()\n",
    "sc.fit(x_train,x_test)\n",
    "x_train=sc.transform(x_train)\n",
    "x_test=sc.transform(x_test)"
   ]
  },
  {
   "cell_type": "code",
   "execution_count": 86,
   "id": "46203e43",
   "metadata": {},
   "outputs": [],
   "source": [
    "from sklearn.linear_model import LinearRegression   # applying linear regression\n",
    "lr=LinearRegression()\n",
    "lr.fit(x_train,y_train)\n",
    "pred=lr.predict(x_test)"
   ]
  },
  {
   "cell_type": "code",
   "execution_count": 87,
   "id": "40e41c61",
   "metadata": {},
   "outputs": [
    {
     "name": "stdout",
     "output_type": "stream",
     "text": [
      "0.8009986721878789\n"
     ]
    }
   ],
   "source": [
    "from sklearn.metrics import r2_score\n",
    "print(r2_score(y_test,pred))"
   ]
  },
  {
   "cell_type": "code",
   "execution_count": 88,
   "id": "32268ac6",
   "metadata": {},
   "outputs": [
    {
     "name": "stdout",
     "output_type": "stream",
     "text": [
      "MAE: 145.04278354507875\n",
      "MSE: 57839.42343062774\n",
      "RMSE: 240.49828155441722\n"
     ]
    }
   ],
   "source": [
    "from sklearn import metrics\n",
    "print('MAE:', metrics.mean_absolute_error(y_test, pred))\n",
    "print('MSE:', metrics.mean_squared_error(y_test, pred))\n",
    "print('RMSE:', np.sqrt(metrics.mean_squared_error(y_test, pred)))"
   ]
  },
  {
   "cell_type": "code",
   "execution_count": 96,
   "id": "71468b44",
   "metadata": {},
   "outputs": [
    {
     "name": "stdout",
     "output_type": "stream",
     "text": [
      "[0.78506691 0.80405792 0.77850198 0.79815816 0.85158539]\n",
      "0.8034740729162371\n",
      "0.02571275250626852\n"
     ]
    }
   ],
   "source": [
    "score=cross_val_score(lr,x,y,cv=5)\n",
    "print(score)\n",
    "print(score.mean())\n",
    "print(score.std())"
   ]
  },
  {
   "cell_type": "code",
   "execution_count": 89,
   "id": "3f6448b8",
   "metadata": {},
   "outputs": [],
   "source": [
    "#applying the decision tree \n",
    "\n",
    "from sklearn.tree import DecisionTreeRegressor\n",
    "dtr=DecisionTreeRegressor()\n",
    "dtr.fit(x_train,y_train)\n",
    "pred=dtr.predict(x_test)"
   ]
  },
  {
   "cell_type": "code",
   "execution_count": 90,
   "id": "b4d6cc20",
   "metadata": {},
   "outputs": [
    {
     "name": "stdout",
     "output_type": "stream",
     "text": [
      "0.7805548693030646\n"
     ]
    }
   ],
   "source": [
    "print(r2_score(y_test,pred))"
   ]
  },
  {
   "cell_type": "code",
   "execution_count": 91,
   "id": "563159a0",
   "metadata": {},
   "outputs": [
    {
     "name": "stdout",
     "output_type": "stream",
     "text": [
      "MAE: 117.7271868131868\n",
      "MSE: 63781.38263556044\n",
      "RMSE: 252.5497626915544\n"
     ]
    }
   ],
   "source": [
    "print('MAE:', metrics.mean_absolute_error(y_test, pred))\n",
    "print('MSE:', metrics.mean_squared_error(y_test, pred))\n",
    "print('RMSE:', np.sqrt(metrics.mean_squared_error(y_test, pred)))"
   ]
  },
  {
   "cell_type": "code",
   "execution_count": 97,
   "id": "0a8fb7b2",
   "metadata": {},
   "outputs": [
    {
     "name": "stdout",
     "output_type": "stream",
     "text": [
      "[0.67412212 0.4714203  0.72497107 0.68309547 0.77398696]\n",
      "0.6655191804243137\n",
      "0.10330256354759372\n"
     ]
    }
   ],
   "source": [
    "score=cross_val_score(dtr,x,y,cv=5)\n",
    "print(score)\n",
    "print(score.mean())\n",
    "print(score.std())"
   ]
  },
  {
   "cell_type": "code",
   "execution_count": 101,
   "id": "f4675320",
   "metadata": {},
   "outputs": [],
   "source": [
    "# applying random forest \n",
    "\n",
    "from sklearn.ensemble import RandomForestRegressor\n",
    "rdr = RandomForestRegressor()\n",
    "rdr.fit(x_train,y_train)\n",
    "predRDR=rdr.predict(x_test)"
   ]
  },
  {
   "cell_type": "code",
   "execution_count": 102,
   "id": "0a4a8ff8",
   "metadata": {},
   "outputs": [
    {
     "name": "stdout",
     "output_type": "stream",
     "text": [
      "0.8638426756494115\n"
     ]
    }
   ],
   "source": [
    "print(r2_score(y_test,predRDR))"
   ]
  },
  {
   "cell_type": "code",
   "execution_count": 103,
   "id": "72fe0150",
   "metadata": {},
   "outputs": [
    {
     "name": "stdout",
     "output_type": "stream",
     "text": [
      "MAE: 99.32997175824175\n",
      "MSE: 39573.912510423615\n",
      "RMSE: 198.9319293387153\n"
     ]
    }
   ],
   "source": [
    "print('MAE:', metrics.mean_absolute_error(y_test, predRDR))\n",
    "print('MSE:', metrics.mean_squared_error(y_test, predRDR))\n",
    "print('RMSE:', np.sqrt(metrics.mean_squared_error(y_test, predRDR)))"
   ]
  },
  {
   "cell_type": "code",
   "execution_count": 104,
   "id": "28cc2ba7",
   "metadata": {},
   "outputs": [
    {
     "name": "stdout",
     "output_type": "stream",
     "text": [
      "[0.82033739 0.83397356 0.79752392 0.85681627 0.89856655]\n",
      "0.8414435376055369\n",
      "0.034437078835266324\n"
     ]
    }
   ],
   "source": [
    "score=cross_val_score(rdr,x,y,cv=5)\n",
    "print(score)\n",
    "print(score.mean())\n",
    "print(score.std())"
   ]
  },
  {
   "cell_type": "markdown",
   "id": "0dd42599",
   "metadata": {},
   "source": [
    "#saving the best model \n",
    "RANDOM FOREST IS THE BEST MODEL WITH 85% ACCURACY "
   ]
  },
  {
   "cell_type": "code",
   "execution_count": 105,
   "id": "7ce69cb9",
   "metadata": {},
   "outputs": [],
   "source": [
    "# saving the best model\n",
    "\n",
    "\n",
    "import  pickle as pk\n",
    "file=open('GLOBAL_POWERPLANT_REGRESSION.pkl','wb')\n",
    "pk.dump(predRDR,file)"
   ]
  },
  {
   "cell_type": "markdown",
   "id": "88bb99eb",
   "metadata": {},
   "source": [
    "# * CONCLUSION"
   ]
  },
  {
   "cell_type": "markdown",
   "id": "a5fbcc23",
   "metadata": {},
   "source": [
    "THE PROBLEM STATEMENT HAD TWO PROBLEMS ,REGRESSION AND CLASSIFICATION BOTH \n",
    "NULL VALUES HAVE BEEN REMOVED \n",
    "ENCODING HAS BEEN APPLIED IN ORDER TO USE ALGORITHMS \n",
    "DATA HAVE BEEN SCALED FOR BETTER PERFORMANCE \n",
    "CROSS VALIDATION HAS BEEN USED \n",
    "RANDOM FOREST HAS PERFORMED THE BEST IN BOTH PROBLEMS AND HAVE BEEN SAVED "
   ]
  },
  {
   "cell_type": "code",
   "execution_count": null,
   "id": "d93dce8d",
   "metadata": {},
   "outputs": [],
   "source": []
  }
 ],
 "metadata": {
  "kernelspec": {
   "display_name": "Python 3",
   "language": "python",
   "name": "python3"
  },
  "language_info": {
   "codemirror_mode": {
    "name": "ipython",
    "version": 3
   },
   "file_extension": ".py",
   "mimetype": "text/x-python",
   "name": "python",
   "nbconvert_exporter": "python",
   "pygments_lexer": "ipython3",
   "version": "3.8.8"
  }
 },
 "nbformat": 4,
 "nbformat_minor": 5
}
